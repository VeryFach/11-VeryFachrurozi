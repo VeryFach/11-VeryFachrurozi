{
 "cells": [
  {
   "metadata": {},
   "cell_type": "markdown",
   "source": [
    "# WELCOME TO PYTHON 101 &#128212;\n",
    "\n",
    "![Learning Python](https://media.giphy.com/media/coxQHKASG60HrHtvkt/giphy.gif?cid=790b7611j007uace9f8pfdg86jtgwi1o4tsfvjl863xk3nbx&ep=v1_gifs_search&rid=giphy.gif&ct=g)\n",
    "\n",
    "## So let's get started\n",
    "\n",
    "Python is a popular [high level programming language](https://www.geeksforgeeks.org/what-is-high-level-language/) created by Guido Van Rossum in 1991. It's used in diverse roles such as :\n",
    "- Web Development\n",
    "- Game Development, and also...\n",
    "- &#128171; **All data roles** &#128171; , name it... Data Science, Data Analysis, Data Engineering, Machine Learning, etc.\n",
    "\n",
    "## How it works?\n",
    "Python doesn’t convert its code into machine code. It converts it into byte code. So within Python, compilation happens, but it’s just not in a machine language. It is into byte code (.pyc or .pyo) and this byte code can’t be understood by the CPU. So we need an interpreter called the Python virtual machine to execute the byte codes. For more details you could check from these resources :\n",
    "- https://www.geeksforgeeks.org/internal-working-of-python/\n",
    "\n",
    "### Enough yapping, let's dive into the code shall we? &#128583;\n",
    "\n",
    "\n",
    "\n"
   ],
   "id": "ca829bee97d37fa2"
  },
  {
   "metadata": {},
   "cell_type": "markdown",
   "source": [
    "# 1) How to print a simple hello world?\n",
    "\n",
    "Well... it's simple, just create a .py/.ipynb file than code"
   ],
   "id": "83de06bb9a604d01"
  },
  {
   "metadata": {
    "collapsed": true,
    "ExecuteTime": {
     "end_time": "2025-02-05T10:11:27.364247Z",
     "start_time": "2025-02-05T10:11:27.361380Z"
    }
   },
   "cell_type": "code",
   "outputs": [
    {
     "name": "stdout",
     "output_type": "stream",
     "text": [
      "hello world\n"
     ]
    }
   ],
   "execution_count": 1,
   "source": [
    "print(\"hello world\")\n",
    "\n",
    "# see? ez pz"
   ],
   "id": "initial_id"
  },
  {
   "metadata": {},
   "cell_type": "markdown",
   "source": [
    "# 2) Declaring Variables\n",
    "\n",
    "Not like ~~Jawa~~ Java, Python has no command for declaring a variable"
   ],
   "id": "dc50aee0e084100f"
  },
  {
   "metadata": {
    "ExecuteTime": {
     "end_time": "2025-02-05T10:20:21.531007Z",
     "start_time": "2025-02-05T10:20:21.528434Z"
    }
   },
   "cell_type": "code",
   "outputs": [
    {
     "name": "stdout",
     "output_type": "stream",
     "text": [
      "10\n",
      "wawan\n"
     ]
    }
   ],
   "execution_count": 2,
   "source": [
    "x = 10\n",
    "y = \"wawan\"\n",
    "print(x)\n",
    "print(y)"
   ],
   "id": "9d6d215fdb4a0982"
  },
  {
   "metadata": {},
   "cell_type": "markdown",
   "source": "Python can change type after they have been set",
   "id": "f926c4ddeb0b0cda"
  },
  {
   "metadata": {
    "ExecuteTime": {
     "end_time": "2025-02-05T10:27:25.517616Z",
     "start_time": "2025-02-05T10:27:25.514748Z"
    }
   },
   "cell_type": "code",
   "source": [
    "p = 999.8 # from float\n",
    "p = \"Mencetak info\" # to string\n",
    "print(type(p))"
   ],
   "id": "dee5a7f925bc3828",
   "outputs": [
    {
     "name": "stdout",
     "output_type": "stream",
     "text": [
      "<class 'str'>\n"
     ]
    }
   ],
   "execution_count": 9
  },
  {
   "metadata": {},
   "cell_type": "markdown",
   "source": [
    "# 3) Primitive Data Types\n",
    "\n",
    "Primitive data types are basic categories that it used for to save data's / information's into the computer program. It has 6 primitive data types :\n",
    "- `int` -> Data type for integers\n",
    "- `float` -> Data type for decimal or fractional numbers\n",
    "- `complex` -> Data type for complex numbers\n",
    "- `string` -> A data type for storing text or a sequence of characters\n",
    "- `boolean` -> A data type that has only two values (True or False)\n",
    "- `none`\n",
    "\n",
    "### Numbers"
   ],
   "id": "d66b26c9bde78d3"
  },
  {
   "metadata": {
    "ExecuteTime": {
     "end_time": "2025-02-05T10:39:42.741211Z",
     "start_time": "2025-02-05T10:39:42.738881Z"
    }
   },
   "cell_type": "code",
   "outputs": [
    {
     "name": "stdout",
     "output_type": "stream",
     "text": [
      "8\n",
      "<class 'int'>\n"
     ]
    }
   ],
   "execution_count": 10,
   "source": [
    "# Integer\n",
    "c = 8\n",
    "print(c)\n",
    "print(type(c))"
   ],
   "id": "fed7737f6a944f61"
  },
  {
   "metadata": {
    "ExecuteTime": {
     "end_time": "2025-02-05T10:39:59.752590Z",
     "start_time": "2025-02-05T10:39:59.749533Z"
    }
   },
   "cell_type": "code",
   "outputs": [
    {
     "name": "stdout",
     "output_type": "stream",
     "text": [
      "3.09\n",
      "<class 'float'>\n"
     ]
    }
   ],
   "execution_count": 11,
   "source": [
    "# float\n",
    "v = 3.09\n",
    "print(v)\n",
    "print(type(v))"
   ],
   "id": "f409d62d4b2512c6"
  },
  {
   "metadata": {
    "ExecuteTime": {
     "end_time": "2025-02-05T10:43:45.043074Z",
     "start_time": "2025-02-05T10:43:45.040277Z"
    }
   },
   "cell_type": "code",
   "outputs": [
    {
     "name": "stdout",
     "output_type": "stream",
     "text": [
      "(5+9j)\n",
      "<class 'complex'> \n",
      "\n",
      "3j\n",
      "<class 'complex'> \n",
      "\n",
      "(-0-9j)\n",
      "<class 'complex'>\n"
     ]
    }
   ],
   "execution_count": 15,
   "source": [
    "# Complex\n",
    "# Complex numbers are written with a \"j\" as the imaginary part:\n",
    "q = 5+9J\n",
    "r = 3j\n",
    "s = -9j\n",
    "print(q)\n",
    "print(type(q), \"\\n\")\n",
    "print(r)\n",
    "print(type(r), \"\\n\")\n",
    "print(s)\n",
    "print(type(s))"
   ],
   "id": "beb0b151772f47d9"
  },
  {
   "metadata": {},
   "cell_type": "markdown",
   "source": "### Strings",
   "id": "3a1c5b5007aea49d"
  },
  {
   "metadata": {
    "ExecuteTime": {
     "end_time": "2025-02-05T10:45:18.767479Z",
     "start_time": "2025-02-05T10:45:18.763907Z"
    }
   },
   "cell_type": "code",
   "outputs": [
    {
     "name": "stdout",
     "output_type": "stream",
     "text": [
      "p mabar valo\n",
      "<class 'str'> \n",
      "\n",
      "p mabar valo\n",
      "<class 'str'>\n"
     ]
    }
   ],
   "execution_count": 16,
   "source": [
    "a = \"p mabar valo\"\n",
    "print(a)\n",
    "print(type(a), \"\\n\")\n",
    "\n",
    "# is the same thing as\n",
    "\n",
    "b = 'p mabar valo'\n",
    "print(b)\n",
    "print(type(b))"
   ],
   "id": "651cb4b8b93759a9"
  },
  {
   "metadata": {
    "ExecuteTime": {
     "end_time": "2025-02-05T10:48:48.188799Z",
     "start_time": "2025-02-05T10:48:48.185309Z"
    }
   },
   "cell_type": "code",
   "outputs": [
    {
     "name": "stdout",
     "output_type": "stream",
     "text": [
      "My momma said \"you need to take a bath\"\n",
      "<class 'str'> \n",
      "\n",
      "My momma said 'you need to take a bath'\n",
      "<class 'str'>\n"
     ]
    }
   ],
   "execution_count": 18,
   "source": [
    "var = 'My momma said \"you need to take a bath\"'\n",
    "print(var)\n",
    "print(type(var), \"\\n\")\n",
    "\n",
    "# is the same data type as\n",
    "\n",
    "var1 = \"My momma said 'you need to take a bath'\"\n",
    "print(var1)\n",
    "print(type(var1))"
   ],
   "id": "b75a0b73b758efd6"
  },
  {
   "metadata": {
    "ExecuteTime": {
     "end_time": "2025-02-05T10:54:59.156576Z",
     "start_time": "2025-02-05T10:54:59.153414Z"
    }
   },
   "cell_type": "code",
   "outputs": [
    {
     "name": "stdout",
     "output_type": "stream",
     "text": [
      "this is line zero\n",
      " this is line one\n",
      "<class 'str'>\n"
     ]
    }
   ],
   "execution_count": 19,
   "source": [
    "variable = \"this is line zero\\n this is line one\"\n",
    "print(variable)\n",
    "print(type(variable))"
   ],
   "id": "5a413ffd1e407b4d"
  },
  {
   "metadata": {
    "ExecuteTime": {
     "end_time": "2025-02-05T10:58:10.356379Z",
     "start_time": "2025-02-05T10:58:10.352737Z"
    }
   },
   "cell_type": "code",
   "outputs": [
    {
     "name": "stdout",
     "output_type": "stream",
     "text": [
      "Welcome to python basics\n",
      "you can learn for data science\n",
      "or you can learn for webdev as well \n",
      "\n",
      "Welcome to python basics\n",
      "you can learn for data science\n",
      "or you can learn for webdev as well\n"
     ]
    }
   ],
   "execution_count": 22,
   "source": [
    "# Declare a multiline string using a single quote and double quote\n",
    "a = '''Welcome to python basics\n",
    "you can learn for data science\n",
    "or you can learn for webdev as well \\n'''\n",
    "\n",
    "b = \"\"\"Welcome to python basics\n",
    "you can learn for data science\n",
    "or you can learn for webdev as well\"\"\"\n",
    "\n",
    "print(a)\n",
    "print(b)\n"
   ],
   "id": "90603b54101f2615"
  },
  {
   "metadata": {},
   "cell_type": "markdown",
   "source": "### Booleans",
   "id": "69476db61cce8873"
  },
  {
   "metadata": {
    "ExecuteTime": {
     "end_time": "2025-02-05T11:02:37.450070Z",
     "start_time": "2025-02-05T11:02:37.446894Z"
    }
   },
   "cell_type": "code",
   "outputs": [
    {
     "name": "stdout",
     "output_type": "stream",
     "text": [
      "True\n"
     ]
    }
   ],
   "execution_count": 23,
   "source": [
    "x = 9\n",
    "print(bool(x))"
   ],
   "id": "15c0caccbdbc59c3"
  },
  {
   "metadata": {
    "ExecuteTime": {
     "end_time": "2025-02-05T11:03:25.637996Z",
     "start_time": "2025-02-05T11:03:25.634714Z"
    }
   },
   "cell_type": "code",
   "outputs": [
    {
     "name": "stdout",
     "output_type": "stream",
     "text": [
      "False\n",
      "<class 'bool'>\n",
      "False\n"
     ]
    }
   ],
   "execution_count": 25,
   "source": [
    "z = False\n",
    "print(z)\n",
    "print(type(z))\n",
    "print(bool(z))"
   ],
   "id": "7d632adcb3b8c81d"
  },
  {
   "metadata": {},
   "cell_type": "markdown",
   "source": "### Casting Data Types",
   "id": "846315f892822062"
  },
  {
   "metadata": {
    "ExecuteTime": {
     "end_time": "2025-02-05T11:18:16.547281Z",
     "start_time": "2025-02-05T11:18:16.543947Z"
    }
   },
   "cell_type": "code",
   "source": [
    "# cast from str to int\n",
    "str_numbers = \"456\"\n",
    "str_numbers_to_int = int(numbers)\n",
    "print(\"Before casting :\", numbers, \", the data type is\", type(str_numbers))\n",
    "print(\"After casting :\", numbers_to_int, \", the data type is\", type(str_numbers_to_int))"
   ],
   "id": "aaa27ba33ce7f3f8",
   "outputs": [
    {
     "name": "stdout",
     "output_type": "stream",
     "text": [
      "Before casting : 456 , the data type is <class 'str'>\n",
      "After casting : 456 , the data type is <class 'int'>\n"
     ]
    }
   ],
   "execution_count": 35
  },
  {
   "metadata": {
    "ExecuteTime": {
     "end_time": "2025-02-05T11:18:40.382829Z",
     "start_time": "2025-02-05T11:18:40.379445Z"
    }
   },
   "cell_type": "code",
   "source": [
    "# casting from int to str\n",
    "int = 12345\n",
    "int_to_str = str(int)\n",
    "print(\"Before casting :\", int, \", the data type is\", type(int))\n",
    "print(\"After casting :\", int_to_str, \", the data type is\", type(int_to_str))"
   ],
   "id": "4e7a3248976e2ca4",
   "outputs": [
    {
     "name": "stdout",
     "output_type": "stream",
     "text": [
      "Before casting : 12345 , the data type is <class 'int'>\n",
      "After casting : 12345 , the data type is <class 'str'>\n"
     ]
    }
   ],
   "execution_count": 37
  },
  {
   "metadata": {
    "ExecuteTime": {
     "end_time": "2025-02-05T11:19:08.718883Z",
     "start_time": "2025-02-05T11:19:08.716101Z"
    }
   },
   "cell_type": "code",
   "source": [
    "# casting from int to bool\n",
    "num_int = 1\n",
    "num_bool = bool(num_int)\n",
    "print(num_bool, type(num_bool))\n",
    "\n",
    "num_int = 0\n",
    "num_bool = bool(num_int)\n",
    "print(num_bool, type(num_bool))"
   ],
   "id": "c0180e1575a92b74",
   "outputs": [
    {
     "name": "stdout",
     "output_type": "stream",
     "text": [
      "True <class 'bool'>\n",
      "False <class 'bool'>\n"
     ]
    }
   ],
   "execution_count": 38
  },
  {
   "metadata": {},
   "cell_type": "markdown",
   "source": [
    "# 4) Operators\n",
    "\n",
    "### Comparison Operator\n",
    "\n",
    "![](https://d1e4pidl3fu268.cloudfront.net/48295477-61ac-4b5e-a6dc-456acd3ab0a6/comparisonoperators.png)"
   ],
   "id": "9e11dc485752f7d2"
  },
  {
   "metadata": {
    "ExecuteTime": {
     "end_time": "2025-02-05T11:20:06.228294Z",
     "start_time": "2025-02-05T11:20:06.225273Z"
    }
   },
   "cell_type": "code",
   "source": [
    "# Equal to\n",
    "8 == 8"
   ],
   "id": "1fe9ac439da20308",
   "outputs": [
    {
     "data": {
      "text/plain": [
       "True"
      ]
     },
     "execution_count": 39,
     "metadata": {},
     "output_type": "execute_result"
    }
   ],
   "execution_count": 39
  },
  {
   "metadata": {
    "ExecuteTime": {
     "end_time": "2025-02-05T11:20:12.890177Z",
     "start_time": "2025-02-05T11:20:12.886224Z"
    }
   },
   "cell_type": "code",
   "source": [
    "# Not equal to\n",
    "8 != 9"
   ],
   "id": "6816e2a0f0080a3b",
   "outputs": [
    {
     "data": {
      "text/plain": [
       "True"
      ]
     },
     "execution_count": 40,
     "metadata": {},
     "output_type": "execute_result"
    }
   ],
   "execution_count": 40
  },
  {
   "metadata": {
    "ExecuteTime": {
     "end_time": "2025-02-05T11:20:29.587161Z",
     "start_time": "2025-02-05T11:20:29.583415Z"
    }
   },
   "cell_type": "code",
   "source": [
    "# Greater than\n",
    "8 > 9"
   ],
   "id": "5e12b12890cc88ba",
   "outputs": [
    {
     "data": {
      "text/plain": [
       "False"
      ]
     },
     "execution_count": 41,
     "metadata": {},
     "output_type": "execute_result"
    }
   ],
   "execution_count": 41
  },
  {
   "metadata": {
    "ExecuteTime": {
     "end_time": "2025-02-05T11:20:34.321212Z",
     "start_time": "2025-02-05T11:20:34.318260Z"
    }
   },
   "cell_type": "code",
   "source": [
    "# Less than\n",
    "8 < 9"
   ],
   "id": "c8856b1a29b212a5",
   "outputs": [
    {
     "data": {
      "text/plain": [
       "True"
      ]
     },
     "execution_count": 42,
     "metadata": {},
     "output_type": "execute_result"
    }
   ],
   "execution_count": 42
  },
  {
   "metadata": {
    "ExecuteTime": {
     "end_time": "2025-02-05T11:20:58.377899Z",
     "start_time": "2025-02-05T11:20:58.374706Z"
    }
   },
   "cell_type": "code",
   "source": [
    "# Less than\n",
    "8 <= 9"
   ],
   "id": "8266846ea9507428",
   "outputs": [
    {
     "data": {
      "text/plain": [
       "True"
      ]
     },
     "execution_count": 43,
     "metadata": {},
     "output_type": "execute_result"
    }
   ],
   "execution_count": 43
  },
  {
   "metadata": {
    "ExecuteTime": {
     "end_time": "2025-02-05T11:21:09.800589Z",
     "start_time": "2025-02-05T11:21:09.796989Z"
    }
   },
   "cell_type": "code",
   "source": [
    "# Less than\n",
    "9 >= 9"
   ],
   "id": "25e49e5592a4bc10",
   "outputs": [
    {
     "data": {
      "text/plain": [
       "True"
      ]
     },
     "execution_count": 44,
     "metadata": {},
     "output_type": "execute_result"
    }
   ],
   "execution_count": 44
  },
  {
   "metadata": {},
   "cell_type": "markdown",
   "source": [
    "### Logical Operator\n",
    "\n",
    "![](https://miro.medium.com/v2/resize:fit:602/1*SDDa0gcAESWXdiiy3xs3PQ.png)"
   ],
   "id": "c72819f9f8d5b954"
  },
  {
   "metadata": {
    "ExecuteTime": {
     "end_time": "2025-02-05T11:24:11.070822Z",
     "start_time": "2025-02-05T11:24:11.067192Z"
    }
   },
   "cell_type": "code",
   "source": [
    "a = True\n",
    "b = True\n",
    "print(a and b)\n",
    "print(a or b)\n",
    "print(not b)"
   ],
   "id": "8fc44df87a7d53a9",
   "outputs": [
    {
     "name": "stdout",
     "output_type": "stream",
     "text": [
      "True\n",
      "True\n",
      "False\n"
     ]
    }
   ],
   "execution_count": 45
  },
  {
   "metadata": {
    "ExecuteTime": {
     "end_time": "2025-02-05T11:24:32.017600Z",
     "start_time": "2025-02-05T11:24:32.014846Z"
    }
   },
   "cell_type": "code",
   "source": "5 > 6 and 6 < 7",
   "id": "9463111263cf3830",
   "outputs": [
    {
     "data": {
      "text/plain": [
       "False"
      ]
     },
     "execution_count": 46,
     "metadata": {},
     "output_type": "execute_result"
    }
   ],
   "execution_count": 46
  },
  {
   "metadata": {},
   "cell_type": "markdown",
   "source": "The logic above can be called with Compound Truth (logika gabungan)",
   "id": "11ff9a4231fe7008"
  },
  {
   "metadata": {},
   "cell_type": "markdown",
   "source": [
    "### Aritmetic Operator\n",
    "\n",
    "![](https://d1e4pidl3fu268.cloudfront.net/f20083ef-a2fb-4673-ac88-13d58ba68133/Arithmeticoperators.png)"
   ],
   "id": "856c3f863dd5e7f1"
  },
  {
   "metadata": {},
   "cell_type": "code",
   "outputs": [],
   "execution_count": null,
   "source": "",
   "id": "b95ad36531068ec4"
  }
 ],
 "metadata": {
  "kernelspec": {
   "display_name": "Python 3",
   "language": "python",
   "name": "python3"
  },
  "language_info": {
   "codemirror_mode": {
    "name": "ipython",
    "version": 2
   },
   "file_extension": ".py",
   "mimetype": "text/x-python",
   "name": "python",
   "nbconvert_exporter": "python",
   "pygments_lexer": "ipython2",
   "version": "2.7.6"
  }
 },
 "nbformat": 4,
 "nbformat_minor": 5
}

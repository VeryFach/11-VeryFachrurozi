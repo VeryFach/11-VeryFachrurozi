{
 "cells": [
  {
   "metadata": {},
   "cell_type": "markdown",
   "source": "# WELCOME TO PYTHON 101 &#128212;\n",
   "id": "63d7a70e1f2883c8"
  },
  {
   "metadata": {},
   "cell_type": "markdown",
   "source": "![Image](../Images/copy_cover.png)",
   "id": "7e21915d7236864"
  },
  {
   "metadata": {},
   "cell_type": "markdown",
   "source": [
    "<div align=\"center\">\n",
    "    <img src=\"https://www.google.com/url?sa=i&url=https%3A%2F%2Fwww.facebook.com%2Fbccfilkomub%2F&psig=AOvVaw2IZ7a_09X8kGO0QIefeyvh&ust=1738829163452000&source=images&cd=vfe&opi=89978449&ved=0CBQQjRxqFwoTCLCd2NaJrIsDFQAAAAAdAAAAABAE\" alt=\"Banner\" style=\"width:80%;\">\n",
    "</div>\n"
   ],
   "id": "1c66e82568e14e8b"
  },
  {
   "metadata": {},
   "cell_type": "markdown",
   "source": [
    "## Let's get started\n",
    "\n",
    "So Python is"
   ],
   "id": "14fe2579dc8a2342"
  },
  {
   "cell_type": "code",
   "id": "initial_id",
   "metadata": {
    "collapsed": true,
    "ExecuteTime": {
     "end_time": "2025-02-05T08:09:41.137210Z",
     "start_time": "2025-02-05T08:09:41.134876Z"
    }
   },
   "source": "test = 10\n",
   "outputs": [],
   "execution_count": 1
  }
 ],
 "metadata": {
  "kernelspec": {
   "display_name": "Python 3",
   "language": "python",
   "name": "python3"
  },
  "language_info": {
   "codemirror_mode": {
    "name": "ipython",
    "version": 2
   },
   "file_extension": ".py",
   "mimetype": "text/x-python",
   "name": "python",
   "nbconvert_exporter": "python",
   "pygments_lexer": "ipython2",
   "version": "2.7.6"
  }
 },
 "nbformat": 4,
 "nbformat_minor": 5
}

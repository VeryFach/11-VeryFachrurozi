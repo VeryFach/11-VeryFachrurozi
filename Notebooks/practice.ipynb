{
 "cells": [
  {
   "metadata": {},
   "cell_type": "markdown",
   "source": [
    "# PRACTICE TIME!! &#128074;\n",
    "\n",
    "![meme](https://media.giphy.com/media/13rQ7rrTrvZXlm/giphy.gif?cid=790b7611tbr19hibmoipc9i7bd6u754u1l2a831y9hbjcsd8&ep=v1_gifs_search&rid=giphy.gif&ct=g)"
   ],
   "id": "609c7d0913b26a99"
  },
  {
   "metadata": {},
   "cell_type": "markdown",
   "source": [
    "# Easy level\n",
    "### Test case 1 : write a function to check if a number is even or odd\n",
    "\n",
    "**You can only write 1 line in a function**"
   ],
   "id": "3af06eb55927dedc"
  },
  {
   "metadata": {
    "ExecuteTime": {
     "end_time": "2025-02-07T08:50:23.736158Z",
     "start_time": "2025-02-07T08:50:23.732847Z"
    }
   },
   "cell_type": "code",
   "source": [
    "# write and continue the code down here\n",
    "# def ...(...):\n",
    "#     return ...\n",
    "\n",
    "# Test\n",
    "# print(...(4))  # Expected: Even\n",
    "# print(...(7))  # Expected: Odd\n",
    "\n",
    "# The output should be like below"
   ],
   "id": "6d7c24b7bcc5b80d",
   "outputs": [
    {
     "name": "stdout",
     "output_type": "stream",
     "text": [
      "The number is Even\n",
      "The number is Odd\n"
     ]
    }
   ],
   "execution_count": 7
  },
  {
   "metadata": {},
   "cell_type": "markdown",
   "source": [
    "# Medium level\n",
    "\n"
   ],
   "id": "a883ea0dbe17769c"
  }
 ],
 "metadata": {
  "kernelspec": {
   "display_name": "Python 3",
   "language": "python",
   "name": "python3"
  },
  "language_info": {
   "codemirror_mode": {
    "name": "ipython",
    "version": 2
   },
   "file_extension": ".py",
   "mimetype": "text/x-python",
   "name": "python",
   "nbconvert_exporter": "python",
   "pygments_lexer": "ipython2",
   "version": "2.7.6"
  }
 },
 "nbformat": 4,
 "nbformat_minor": 5
}

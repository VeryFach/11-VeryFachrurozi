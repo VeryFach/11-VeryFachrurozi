{
 "cells": [
  {
   "metadata": {},
   "cell_type": "markdown",
   "source": [
    "# WELCOME TO PYTHON 101 &#128212;\n",
    "\n",
    "![Learning Python](https://media.giphy.com/media/coxQHKASG60HrHtvkt/giphy.gif?cid=790b7611j007uace9f8pfdg86jtgwi1o4tsfvjl863xk3nbx&ep=v1_gifs_search&rid=giphy.gif&ct=g)\n",
    "\n",
    "## So let's get started\n",
    "\n",
    "Python is a popular [high level programming language](https://www.geeksforgeeks.org/what-is-high-level-language/) created by Guido Van Rossum in 1991. It's used in diverse roles such as :\n",
    "- Web Development\n",
    "- Game Development, and also...\n",
    "- &#128171; **All data roles** &#128171; , name it... Data Science, Data Analysis, Data Engineering, Machine Learning, etc.\n",
    "\n",
    "## How it works?\n",
    "Python doesn’t convert its code into machine code. It converts it into byte code. So within Python, compilation happens, but it’s just not in a machine language. It is into byte code (.pyc or .pyo) and this byte code can’t be understood by the CPU. So we need an interpreter called the Python virtual machine to execute the byte codes. For more details you could check from these resources :\n",
    "- https://www.geeksforgeeks.org/internal-working-of-python/\n",
    "\n",
    "### Enough yapping, let's dive into the code shall we? &#128583;\n",
    "\n",
    "\n",
    "\n"
   ],
   "id": "ca829bee97d37fa2"
  },
  {
   "metadata": {},
   "cell_type": "markdown",
   "source": [
    "# 1) How to print a simple hello world?\n",
    "\n",
    "Well... it's simple, just create a .py/.ipynb file than code"
   ],
   "id": "83de06bb9a604d01"
  },
  {
   "metadata": {
    "collapsed": true,
    "ExecuteTime": {
     "end_time": "2025-02-06T06:51:58.682713Z",
     "start_time": "2025-02-06T06:51:58.680368Z"
    }
   },
   "cell_type": "code",
   "source": [
    "print(\"hello world\")\n",
    "\n",
    "# see? ez pz"
   ],
   "id": "initial_id",
   "outputs": [
    {
     "name": "stdout",
     "output_type": "stream",
     "text": [
      "hello world\n"
     ]
    }
   ],
   "execution_count": 41
  },
  {
   "metadata": {},
   "cell_type": "markdown",
   "source": [
    "# 2) Declaring Variables\n",
    "\n",
    "Not like ~~Jawa~~ Java, Python has no command for declaring a variable"
   ],
   "id": "dc50aee0e084100f"
  },
  {
   "metadata": {
    "ExecuteTime": {
     "end_time": "2025-02-06T06:51:58.705001Z",
     "start_time": "2025-02-06T06:51:58.702472Z"
    }
   },
   "cell_type": "code",
   "source": [
    "x = 10\n",
    "y = \"wawan\"\n",
    "print(x)\n",
    "print(y)"
   ],
   "id": "9d6d215fdb4a0982",
   "outputs": [
    {
     "name": "stdout",
     "output_type": "stream",
     "text": [
      "10\n",
      "wawan\n"
     ]
    }
   ],
   "execution_count": 42
  },
  {
   "metadata": {},
   "cell_type": "markdown",
   "source": "Python can change type after they have been set",
   "id": "f926c4ddeb0b0cda"
  },
  {
   "metadata": {
    "ExecuteTime": {
     "end_time": "2025-02-06T06:51:58.758799Z",
     "start_time": "2025-02-06T06:51:58.755671Z"
    }
   },
   "cell_type": "code",
   "source": [
    "p = 999.8 # from float\n",
    "p = \"Mencetak info\" # to string\n",
    "print(type(p))"
   ],
   "id": "dee5a7f925bc3828",
   "outputs": [
    {
     "name": "stdout",
     "output_type": "stream",
     "text": [
      "<class 'str'>\n"
     ]
    }
   ],
   "execution_count": 43
  },
  {
   "metadata": {},
   "cell_type": "markdown",
   "source": [
    "# 3) Primitive Data Types\n",
    "\n",
    "Primitive data types are basic categories that it used for to save data's / information's into the computer program. It has 6 primitive data types :\n",
    "- `int` -> Data type for integers\n",
    "- `float` -> Data type for decimal or fractional numbers\n",
    "- `complex` -> Data type for complex numbers\n",
    "- `string` -> A data type for storing text or a sequence of characters\n",
    "- `boolean` -> A data type that has only two values (True or False)\n",
    "- `none`\n",
    "\n",
    "### Numbers"
   ],
   "id": "d66b26c9bde78d3"
  },
  {
   "metadata": {
    "ExecuteTime": {
     "end_time": "2025-02-06T06:51:58.808628Z",
     "start_time": "2025-02-06T06:51:58.806420Z"
    }
   },
   "cell_type": "code",
   "source": [
    "# Integer\n",
    "c = 8\n",
    "print(c)\n",
    "print(type(c))"
   ],
   "id": "fed7737f6a944f61",
   "outputs": [
    {
     "name": "stdout",
     "output_type": "stream",
     "text": [
      "8\n",
      "<class 'int'>\n"
     ]
    }
   ],
   "execution_count": 44
  },
  {
   "metadata": {
    "ExecuteTime": {
     "end_time": "2025-02-06T06:51:58.860019Z",
     "start_time": "2025-02-06T06:51:58.857130Z"
    }
   },
   "cell_type": "code",
   "source": [
    "# float\n",
    "v = 3.09\n",
    "print(v)\n",
    "print(type(v))"
   ],
   "id": "f409d62d4b2512c6",
   "outputs": [
    {
     "name": "stdout",
     "output_type": "stream",
     "text": [
      "3.09\n",
      "<class 'float'>\n"
     ]
    }
   ],
   "execution_count": 45
  },
  {
   "metadata": {
    "ExecuteTime": {
     "end_time": "2025-02-06T06:51:58.911471Z",
     "start_time": "2025-02-06T06:51:58.908583Z"
    }
   },
   "cell_type": "code",
   "source": [
    "# Complex\n",
    "# Complex numbers are written with a \"j\" as the imaginary part:\n",
    "q = 5+9J\n",
    "r = 3j\n",
    "s = -9j\n",
    "print(q)\n",
    "print(type(q), \"\\n\")\n",
    "print(r)\n",
    "print(type(r), \"\\n\")\n",
    "print(s)\n",
    "print(type(s))"
   ],
   "id": "beb0b151772f47d9",
   "outputs": [
    {
     "name": "stdout",
     "output_type": "stream",
     "text": [
      "(5+9j)\n",
      "<class 'complex'> \n",
      "\n",
      "3j\n",
      "<class 'complex'> \n",
      "\n",
      "(-0-9j)\n",
      "<class 'complex'>\n"
     ]
    }
   ],
   "execution_count": 46
  },
  {
   "metadata": {},
   "cell_type": "markdown",
   "source": "### Strings",
   "id": "3a1c5b5007aea49d"
  },
  {
   "metadata": {
    "ExecuteTime": {
     "end_time": "2025-02-06T06:51:58.963459Z",
     "start_time": "2025-02-06T06:51:58.959417Z"
    }
   },
   "cell_type": "code",
   "source": [
    "a = \"p mabar valo\"\n",
    "print(a)\n",
    "print(type(a), \"\\n\")\n",
    "\n",
    "# is the same thing as\n",
    "\n",
    "b = 'p mabar valo'\n",
    "print(b)\n",
    "print(type(b))"
   ],
   "id": "651cb4b8b93759a9",
   "outputs": [
    {
     "name": "stdout",
     "output_type": "stream",
     "text": [
      "p mabar valo\n",
      "<class 'str'> \n",
      "\n",
      "p mabar valo\n",
      "<class 'str'>\n"
     ]
    }
   ],
   "execution_count": 47
  },
  {
   "metadata": {
    "ExecuteTime": {
     "end_time": "2025-02-06T06:51:59.012942Z",
     "start_time": "2025-02-06T06:51:59.010102Z"
    }
   },
   "cell_type": "code",
   "source": [
    "var = 'My momma said \"you need to take a bath\"'\n",
    "print(var)\n",
    "print(type(var), \"\\n\")\n",
    "\n",
    "# is the same data type as\n",
    "\n",
    "var1 = \"My momma said 'you need to take a bath'\"\n",
    "print(var1)\n",
    "print(type(var1))"
   ],
   "id": "b75a0b73b758efd6",
   "outputs": [
    {
     "name": "stdout",
     "output_type": "stream",
     "text": [
      "My momma said \"you need to take a bath\"\n",
      "<class 'str'> \n",
      "\n",
      "My momma said 'you need to take a bath'\n",
      "<class 'str'>\n"
     ]
    }
   ],
   "execution_count": 48
  },
  {
   "metadata": {
    "ExecuteTime": {
     "end_time": "2025-02-06T06:51:59.064157Z",
     "start_time": "2025-02-06T06:51:59.060630Z"
    }
   },
   "cell_type": "code",
   "source": [
    "variable = \"this is line zero\\n this is line one\"\n",
    "print(variable)\n",
    "print(type(variable))"
   ],
   "id": "5a413ffd1e407b4d",
   "outputs": [
    {
     "name": "stdout",
     "output_type": "stream",
     "text": [
      "this is line zero\n",
      " this is line one\n",
      "<class 'str'>\n"
     ]
    }
   ],
   "execution_count": 49
  },
  {
   "metadata": {
    "ExecuteTime": {
     "end_time": "2025-02-06T06:51:59.114790Z",
     "start_time": "2025-02-06T06:51:59.112151Z"
    }
   },
   "cell_type": "code",
   "source": [
    "# Declare a multiline string using a single quote and double quote\n",
    "a = '''Welcome to python basics\n",
    "you can learn for data science\n",
    "or you can learn for webdev as well \\n'''\n",
    "\n",
    "b = \"\"\"Welcome to python basics\n",
    "you can learn for data science\n",
    "or you can learn for webdev as well\"\"\"\n",
    "\n",
    "print(a)\n",
    "print(b)\n"
   ],
   "id": "90603b54101f2615",
   "outputs": [
    {
     "name": "stdout",
     "output_type": "stream",
     "text": [
      "Welcome to python basics\n",
      "you can learn for data science\n",
      "or you can learn for webdev as well \n",
      "\n",
      "Welcome to python basics\n",
      "you can learn for data science\n",
      "or you can learn for webdev as well\n"
     ]
    }
   ],
   "execution_count": 50
  },
  {
   "metadata": {},
   "cell_type": "markdown",
   "source": "### Booleans",
   "id": "69476db61cce8873"
  },
  {
   "metadata": {
    "ExecuteTime": {
     "end_time": "2025-02-06T06:51:59.170807Z",
     "start_time": "2025-02-06T06:51:59.168546Z"
    }
   },
   "cell_type": "code",
   "source": [
    "x = 9\n",
    "print(bool(x))"
   ],
   "id": "15c0caccbdbc59c3",
   "outputs": [
    {
     "name": "stdout",
     "output_type": "stream",
     "text": [
      "True\n"
     ]
    }
   ],
   "execution_count": 51
  },
  {
   "metadata": {
    "ExecuteTime": {
     "end_time": "2025-02-06T06:51:59.218354Z",
     "start_time": "2025-02-06T06:51:59.215694Z"
    }
   },
   "cell_type": "code",
   "source": [
    "z = False\n",
    "print(z)\n",
    "print(type(z))\n",
    "print(bool(z))"
   ],
   "id": "7d632adcb3b8c81d",
   "outputs": [
    {
     "name": "stdout",
     "output_type": "stream",
     "text": [
      "False\n",
      "<class 'bool'>\n",
      "False\n"
     ]
    }
   ],
   "execution_count": 52
  },
  {
   "metadata": {},
   "cell_type": "markdown",
   "source": "### Casting Data Types",
   "id": "846315f892822062"
  },
  {
   "metadata": {
    "ExecuteTime": {
     "end_time": "2025-02-06T06:51:59.269663Z",
     "start_time": "2025-02-06T06:51:59.266689Z"
    }
   },
   "cell_type": "code",
   "source": [
    "# cast from str to int\n",
    "str_numbers = \"456\"\n",
    "str_numbers_to_int = int(str_numbers)\n",
    "print(\"Before casting :\", str_numbers, \", the data type is\", type(str_numbers))\n",
    "print(\"After casting :\", str_numbers_to_int, \", the data type is\", type(str_numbers_to_int))"
   ],
   "id": "aaa27ba33ce7f3f8",
   "outputs": [
    {
     "name": "stdout",
     "output_type": "stream",
     "text": [
      "Before casting : 456 , the data type is <class 'str'>\n",
      "After casting : 456 , the data type is <class 'int'>\n"
     ]
    }
   ],
   "execution_count": 53
  },
  {
   "metadata": {
    "ExecuteTime": {
     "end_time": "2025-02-06T06:51:59.323506Z",
     "start_time": "2025-02-06T06:51:59.320302Z"
    }
   },
   "cell_type": "code",
   "source": [
    "# casting from int to str\n",
    "integer = 12345\n",
    "integer_to_str = str(integer)\n",
    "print(\"Before casting :\", integer, \", the data type is\", type(integer))\n",
    "print(\"After casting :\", integer_to_str, \", the data type is\", type(integer_to_str))"
   ],
   "id": "4e7a3248976e2ca4",
   "outputs": [
    {
     "name": "stdout",
     "output_type": "stream",
     "text": [
      "Before casting : 12345 , the data type is <class 'int'>\n",
      "After casting : 12345 , the data type is <class 'str'>\n"
     ]
    }
   ],
   "execution_count": 54
  },
  {
   "metadata": {
    "ExecuteTime": {
     "end_time": "2025-02-06T06:51:59.374293Z",
     "start_time": "2025-02-06T06:51:59.371434Z"
    }
   },
   "cell_type": "code",
   "source": [
    "# casting from int to bool\n",
    "num_int = 1\n",
    "num_bool = bool(num_int)\n",
    "print(num_bool, type(num_bool))\n",
    "\n",
    "num_int = 0\n",
    "num_bool = bool(num_int)\n",
    "print(num_bool, type(num_bool))"
   ],
   "id": "c0180e1575a92b74",
   "outputs": [
    {
     "name": "stdout",
     "output_type": "stream",
     "text": [
      "True <class 'bool'>\n",
      "False <class 'bool'>\n"
     ]
    }
   ],
   "execution_count": 55
  },
  {
   "metadata": {},
   "cell_type": "markdown",
   "source": [
    "# 4) Operators\n",
    "\n",
    "### Comparison Operator\n",
    "\n",
    "![](https://d1e4pidl3fu268.cloudfront.net/48295477-61ac-4b5e-a6dc-456acd3ab0a6/comparisonoperators.png)"
   ],
   "id": "9e11dc485752f7d2"
  },
  {
   "metadata": {
    "ExecuteTime": {
     "end_time": "2025-02-06T06:51:59.425195Z",
     "start_time": "2025-02-06T06:51:59.421033Z"
    }
   },
   "cell_type": "code",
   "source": [
    "# Equal to\n",
    "8 == 8"
   ],
   "id": "1fe9ac439da20308",
   "outputs": [
    {
     "data": {
      "text/plain": [
       "True"
      ]
     },
     "execution_count": 56,
     "metadata": {},
     "output_type": "execute_result"
    }
   ],
   "execution_count": 56
  },
  {
   "metadata": {
    "ExecuteTime": {
     "end_time": "2025-02-06T06:51:59.480380Z",
     "start_time": "2025-02-06T06:51:59.477163Z"
    }
   },
   "cell_type": "code",
   "source": [
    "# Not equal to\n",
    "8 != 9"
   ],
   "id": "6816e2a0f0080a3b",
   "outputs": [
    {
     "data": {
      "text/plain": [
       "True"
      ]
     },
     "execution_count": 57,
     "metadata": {},
     "output_type": "execute_result"
    }
   ],
   "execution_count": 57
  },
  {
   "metadata": {
    "ExecuteTime": {
     "end_time": "2025-02-06T06:51:59.532298Z",
     "start_time": "2025-02-06T06:51:59.528160Z"
    }
   },
   "cell_type": "code",
   "source": [
    "# Greater than\n",
    "8 > 9"
   ],
   "id": "5e12b12890cc88ba",
   "outputs": [
    {
     "data": {
      "text/plain": [
       "False"
      ]
     },
     "execution_count": 58,
     "metadata": {},
     "output_type": "execute_result"
    }
   ],
   "execution_count": 58
  },
  {
   "metadata": {
    "ExecuteTime": {
     "end_time": "2025-02-06T06:51:59.582731Z",
     "start_time": "2025-02-06T06:51:59.579084Z"
    }
   },
   "cell_type": "code",
   "source": [
    "# Less than\n",
    "8 < 9"
   ],
   "id": "c8856b1a29b212a5",
   "outputs": [
    {
     "data": {
      "text/plain": [
       "True"
      ]
     },
     "execution_count": 59,
     "metadata": {},
     "output_type": "execute_result"
    }
   ],
   "execution_count": 59
  },
  {
   "metadata": {
    "ExecuteTime": {
     "end_time": "2025-02-06T06:51:59.635586Z",
     "start_time": "2025-02-06T06:51:59.631766Z"
    }
   },
   "cell_type": "code",
   "source": [
    "# Less than\n",
    "8 <= 9"
   ],
   "id": "8266846ea9507428",
   "outputs": [
    {
     "data": {
      "text/plain": [
       "True"
      ]
     },
     "execution_count": 60,
     "metadata": {},
     "output_type": "execute_result"
    }
   ],
   "execution_count": 60
  },
  {
   "metadata": {
    "ExecuteTime": {
     "end_time": "2025-02-06T06:51:59.686379Z",
     "start_time": "2025-02-06T06:51:59.683279Z"
    }
   },
   "cell_type": "code",
   "source": [
    "# Less than\n",
    "9 >= 9"
   ],
   "id": "25e49e5592a4bc10",
   "outputs": [
    {
     "data": {
      "text/plain": [
       "True"
      ]
     },
     "execution_count": 61,
     "metadata": {},
     "output_type": "execute_result"
    }
   ],
   "execution_count": 61
  },
  {
   "metadata": {},
   "cell_type": "markdown",
   "source": [
    "### Logical Operator\n",
    "\n",
    "![](https://miro.medium.com/v2/resize:fit:602/1*SDDa0gcAESWXdiiy3xs3PQ.png)"
   ],
   "id": "c72819f9f8d5b954"
  },
  {
   "metadata": {
    "ExecuteTime": {
     "end_time": "2025-02-06T06:51:59.739506Z",
     "start_time": "2025-02-06T06:51:59.736066Z"
    }
   },
   "cell_type": "code",
   "source": [
    "a = True\n",
    "b = True\n",
    "print(a and b)\n",
    "print(a or b)\n",
    "print(not b)"
   ],
   "id": "8fc44df87a7d53a9",
   "outputs": [
    {
     "name": "stdout",
     "output_type": "stream",
     "text": [
      "True\n",
      "True\n",
      "False\n"
     ]
    }
   ],
   "execution_count": 62
  },
  {
   "metadata": {
    "ExecuteTime": {
     "end_time": "2025-02-06T06:51:59.792359Z",
     "start_time": "2025-02-06T06:51:59.788508Z"
    }
   },
   "cell_type": "code",
   "source": "5 > 6 and 6 < 7",
   "id": "9463111263cf3830",
   "outputs": [
    {
     "data": {
      "text/plain": [
       "False"
      ]
     },
     "execution_count": 63,
     "metadata": {},
     "output_type": "execute_result"
    }
   ],
   "execution_count": 63
  },
  {
   "metadata": {},
   "cell_type": "markdown",
   "source": "The logic above can be called with Compound Truth (logika gabungan)",
   "id": "11ff9a4231fe7008"
  },
  {
   "metadata": {},
   "cell_type": "markdown",
   "source": [
    "### Aritmetic Operator\n",
    "\n",
    "![](https://d1e4pidl3fu268.cloudfront.net/f20083ef-a2fb-4673-ac88-13d58ba68133/Arithmeticoperators.png)"
   ],
   "id": "856c3f863dd5e7f1"
  },
  {
   "metadata": {
    "ExecuteTime": {
     "end_time": "2025-02-06T06:51:59.845894Z",
     "start_time": "2025-02-06T06:51:59.841750Z"
    }
   },
   "cell_type": "code",
   "source": [
    "e = 8\n",
    "f = 2\n",
    "\n",
    "# Summation\n",
    "sum = e + f\n",
    "print(f\"The sum of e with f is : {sum}\\n\")\n",
    "\n",
    "# Reduction\n",
    "red = e - f\n",
    "print(f\"The reduction of e with f is : {red}\\n\")\n",
    "\n",
    "# Multiplication\n",
    "multi = e * f\n",
    "print(f\"The multipication of e with f is : {multi}\\n\")\n",
    "\n",
    "# Division\n",
    "divi = e / f\n",
    "print(f\"The quotient of e with f is : {divi}\\n\")\n",
    "\n",
    "# Modulo\n",
    "mod = e % f\n",
    "print(f\"The remainder of e with f is : {mod}\\n\")\n",
    "\n",
    "# Power\n",
    "pow = e ** f\n",
    "print(f\"The power of e of f is : {pow}\\n\")"
   ],
   "id": "b95ad36531068ec4",
   "outputs": [
    {
     "name": "stdout",
     "output_type": "stream",
     "text": [
      "The sum of e with f is : 10\n",
      "\n",
      "The reduction of e with f is : 6\n",
      "\n",
      "The multipication of e with f is : 16\n",
      "\n",
      "The quotient of e with f is : 4.0\n",
      "\n",
      "The remainder of e with f is : 0\n",
      "\n",
      "The power of e of f is : 64\n",
      "\n"
     ]
    }
   ],
   "execution_count": 64
  },
  {
   "metadata": {},
   "cell_type": "markdown",
   "source": "<img src=\"https://i.ytimg.com/vi/i2i8YkFyLVs/maxresdefault.jpg\" alt=\"precedence_img\" width=\"500\">",
   "id": "e566183009827bf0"
  },
  {
   "metadata": {
    "ExecuteTime": {
     "end_time": "2025-02-06T06:51:59.898738Z",
     "start_time": "2025-02-06T06:51:59.895075Z"
    }
   },
   "cell_type": "code",
   "source": [
    "result = 2 + 3 * (4 ** 2) / 8 - 5\n",
    "result"
   ],
   "id": "943d23aef4c3626e",
   "outputs": [
    {
     "data": {
      "text/plain": [
       "3.0"
      ]
     },
     "execution_count": 65,
     "metadata": {},
     "output_type": "execute_result"
    }
   ],
   "execution_count": 65
  },
  {
   "metadata": {
    "ExecuteTime": {
     "end_time": "2025-02-06T06:51:59.948053Z",
     "start_time": "2025-02-06T06:51:59.945539Z"
    }
   },
   "cell_type": "code",
   "source": [
    "# Try to answer before you run it\n",
    "guess = 60 - 4 * 3 / (2 ** 2) * 2 + 1"
   ],
   "id": "1c275788950a71c4",
   "outputs": [],
   "execution_count": 66
  },
  {
   "metadata": {
    "ExecuteTime": {
     "end_time": "2025-02-06T06:51:59.995073Z",
     "start_time": "2025-02-06T06:51:59.992420Z"
    }
   },
   "cell_type": "code",
   "source": "# answer right here",
   "id": "ec5eccf7a60df3c6",
   "outputs": [],
   "execution_count": 67
  },
  {
   "metadata": {},
   "cell_type": "markdown",
   "source": "## Input Output",
   "id": "2d9ad09d65c3df2d"
  },
  {
   "metadata": {},
   "cell_type": "markdown",
   "source": "### Input",
   "id": "26d34f5b97f195be"
  },
  {
   "metadata": {
    "ExecuteTime": {
     "end_time": "2025-02-06T06:52:10.606207Z",
     "start_time": "2025-02-06T06:52:00.041608Z"
    }
   },
   "cell_type": "code",
   "source": [
    "name = str(input(\"What is your name : \"))\n",
    "age = int(input(\"What's your age : \"))\n",
    "\n",
    "print(\"Name: \", name)\n",
    "print(\"Age: \", age)\n"
   ],
   "id": "3dd9b37aa44eff15",
   "outputs": [
    {
     "name": "stdout",
     "output_type": "stream",
     "text": [
      "Name:  diy\n",
      "Age:  20\n"
     ]
    }
   ],
   "execution_count": 68
  },
  {
   "metadata": {},
   "cell_type": "markdown",
   "source": "### Output",
   "id": "7fda999a0f8632d2"
  },
  {
   "metadata": {
    "ExecuteTime": {
     "end_time": "2025-02-06T06:52:10.646019Z",
     "start_time": "2025-02-06T06:52:10.642945Z"
    }
   },
   "cell_type": "code",
   "source": [
    "# normal print\n",
    "print('Hi all! I am', name, 'usia', age, 'tahun')"
   ],
   "id": "95c7b282b941ef60",
   "outputs": [
    {
     "name": "stdout",
     "output_type": "stream",
     "text": [
      "Hi all! I am diy usia 20 tahun\n"
     ]
    }
   ],
   "execution_count": 69
  },
  {
   "metadata": {
    "ExecuteTime": {
     "end_time": "2025-02-06T06:52:10.695739Z",
     "start_time": "2025-02-06T06:52:10.693310Z"
    }
   },
   "cell_type": "code",
   "source": [
    "# format print\n",
    "print(f'Hi all! I am {name} usia {age} tahun')"
   ],
   "id": "d11d938d0263bc39",
   "outputs": [
    {
     "name": "stdout",
     "output_type": "stream",
     "text": [
      "Hi all! I am diy usia 20 tahun\n"
     ]
    }
   ],
   "execution_count": 70
  },
  {
   "metadata": {
    "ExecuteTime": {
     "end_time": "2025-02-06T06:52:10.745057Z",
     "start_time": "2025-02-06T06:52:10.742635Z"
    }
   },
   "cell_type": "code",
   "source": [
    "# format print\n",
    "print(f'Hi all! I am %s usia %d tahun'%(name, age))"
   ],
   "id": "70ccc5ee559e5cfc",
   "outputs": [
    {
     "name": "stdout",
     "output_type": "stream",
     "text": [
      "Hi all! I am diy usia 20 tahun\n"
     ]
    }
   ],
   "execution_count": 71
  },
  {
   "metadata": {
    "ExecuteTime": {
     "end_time": "2025-02-06T06:52:10.795055Z",
     "start_time": "2025-02-06T06:52:10.792681Z"
    }
   },
   "cell_type": "code",
   "source": [
    "print(30*\"=\")\n",
    "print(\"Temperature Calculator Program\")\n",
    "print(30*\"=\")"
   ],
   "id": "fa14629fae33ecca",
   "outputs": [
    {
     "name": "stdout",
     "output_type": "stream",
     "text": [
      "==============================\n",
      "Temperature Calculator Program\n",
      "==============================\n"
     ]
    }
   ],
   "execution_count": 72
  },
  {
   "metadata": {},
   "cell_type": "markdown",
   "source": "# 5) Conditionals and Exception Handling",
   "id": "12670d67d401e5dc"
  },
  {
   "metadata": {},
   "cell_type": "markdown",
   "source": "### Using If-Else",
   "id": "dcc9d2b0b786fdf0"
  },
  {
   "metadata": {
    "ExecuteTime": {
     "end_time": "2025-02-06T06:52:15.180384Z",
     "start_time": "2025-02-06T06:52:10.841423Z"
    }
   },
   "cell_type": "code",
   "source": [
    "try:\n",
    "    your_GPA = float(input(\"Enter your GPA: \"))\n",
    "    if 4.0 >= your_GPA >= 0.0:\n",
    "        if 4.0 >= your_GPA >= 3.80:\n",
    "            print(f\"Damn you've got a magna cumlaude with your {your_GPA} GPA\")\n",
    "        elif 3.50 <= your_GPA < 3.80:\n",
    "            print(f\"Cool!! You've got a cumlaude with your {your_GPA} GPA\")\n",
    "        elif 3.00 <= your_GPA < 3.50:\n",
    "            print(f\"You've got a stable GPA tho\")\n",
    "        elif your_GPA < 3.0:\n",
    "            print(f\"You need a stable GPA\")\n",
    "    else:\n",
    "        print(f\"Sorry, your GPA {your_GPA} is out of range and invalid\")\n",
    "except:\n",
    "    print(\"Please enter a valid GPA\")"
   ],
   "id": "bf672c37320a2b4f",
   "outputs": [
    {
     "name": "stdout",
     "output_type": "stream",
     "text": [
      "Cool!! You've got a cumlaude with your 3.7 GPA\n"
     ]
    }
   ],
   "execution_count": 73
  },
  {
   "metadata": {},
   "cell_type": "markdown",
   "source": "### Using match case",
   "id": "bf4e8e5bef4deec7"
  },
  {
   "metadata": {
    "ExecuteTime": {
     "end_time": "2025-02-06T06:52:18.452206Z",
     "start_time": "2025-02-06T06:52:15.201040Z"
    }
   },
   "cell_type": "code",
   "source": [
    "try:\n",
    "    status_code = int(input(\"Enter your status code: \"))\n",
    "    print(\"Your code means\")\n",
    "    match status_code:\n",
    "        case 200:\n",
    "            print(\"Success!\")\n",
    "        case 400:\n",
    "            print(\"Bad Request\")\n",
    "        case 401:\n",
    "            print(\"Unauthorized\")\n",
    "        case 402:\n",
    "            print(\"Payment Required\")\n",
    "        case 403:\n",
    "            print(\"Forbidden\")\n",
    "        case 404:\n",
    "            print(\"Not Found\")\n",
    "        case 500:\n",
    "            print(\"Internal Server Error\")\n",
    "except :\n",
    "    print(\"Please enter a valid status code\")"
   ],
   "id": "543c1bb6a0cb7d8b",
   "outputs": [
    {
     "name": "stdout",
     "output_type": "stream",
     "text": [
      "Your code means\n",
      "Success!\n"
     ]
    }
   ],
   "execution_count": 74
  },
  {
   "metadata": {},
   "cell_type": "markdown",
   "source": "### Ternary",
   "id": "c002d2b9d06ca284"
  },
  {
   "metadata": {
    "ExecuteTime": {
     "end_time": "2025-02-06T06:52:18.510376Z",
     "start_time": "2025-02-06T06:52:18.507970Z"
    }
   },
   "cell_type": "code",
   "source": [
    "a = 3\n",
    "b = \"Even Numbers\" if a % 2 == 0 else \"Odd Numbers\"\n",
    "print(b)"
   ],
   "id": "f28e1764db2e3297",
   "outputs": [
    {
     "name": "stdout",
     "output_type": "stream",
     "text": [
      "Odd Numbers\n"
     ]
    }
   ],
   "execution_count": 75
  },
  {
   "metadata": {},
   "cell_type": "markdown",
   "source": "# 6) Loops",
   "id": "78c111f6b7707c6"
  },
  {
   "metadata": {},
   "cell_type": "markdown",
   "source": "### Using for loops",
   "id": "20fa368785c90a7b"
  },
  {
   "metadata": {
    "ExecuteTime": {
     "end_time": "2025-02-06T06:52:18.617327Z",
     "start_time": "2025-02-06T06:52:18.614819Z"
    }
   },
   "cell_type": "code",
   "source": [
    "for i in range(5):\n",
    "    print(i)"
   ],
   "id": "854051b4c1e53729",
   "outputs": [
    {
     "name": "stdout",
     "output_type": "stream",
     "text": [
      "0\n",
      "1\n",
      "2\n",
      "3\n",
      "4\n"
     ]
    }
   ],
   "execution_count": 76
  },
  {
   "metadata": {
    "ExecuteTime": {
     "end_time": "2025-02-06T06:53:51.418064Z",
     "start_time": "2025-02-06T06:53:51.415429Z"
    }
   },
   "cell_type": "code",
   "source": [
    "# For loop with range\n",
    "for i in range(5):\n",
    "    print(\"Data science is easy!\")\n",
    "\n",
    "print(50*\"=\")\n",
    "\n",
    "for i in range(1, 5, 2):\n",
    "    print(\"Data science is easy!\")"
   ],
   "id": "19d8c06826e9a6c6",
   "outputs": [
    {
     "name": "stdout",
     "output_type": "stream",
     "text": [
      "Data science is easy!\n",
      "Data science is easy!\n",
      "Data science is easy!\n",
      "Data science is easy!\n",
      "Data science is easy!\n",
      "==================================================\n",
      "Data science is easy!\n",
      "Data science is easy!\n"
     ]
    }
   ],
   "execution_count": 77
  },
  {
   "metadata": {
    "ExecuteTime": {
     "end_time": "2025-02-06T06:54:38.667560Z",
     "start_time": "2025-02-06T06:54:38.665038Z"
    }
   },
   "cell_type": "code",
   "source": [
    "word = \"I want to master data science\"\n",
    "for letter in word:\n",
    "    print(letter)"
   ],
   "id": "23f552d01a786990",
   "outputs": [
    {
     "name": "stdout",
     "output_type": "stream",
     "text": [
      "I\n",
      " \n",
      "w\n",
      "a\n",
      "n\n",
      "t\n",
      " \n",
      "t\n",
      "o\n",
      " \n",
      "m\n",
      "a\n",
      "s\n",
      "t\n",
      "e\n",
      "r\n",
      " \n",
      "d\n",
      "a\n",
      "t\n",
      "a\n",
      " \n",
      "s\n",
      "c\n",
      "i\n",
      "e\n",
      "n\n",
      "c\n",
      "e\n"
     ]
    }
   ],
   "execution_count": 78
  },
  {
   "metadata": {
    "ExecuteTime": {
     "end_time": "2025-02-06T06:55:21.527978Z",
     "start_time": "2025-02-06T06:55:21.525272Z"
    }
   },
   "cell_type": "code",
   "source": [
    "# It can go backwards\n",
    "for i in range(5,1,-1):\n",
    "    print(\"Aku ingin data yang gede banget\")"
   ],
   "id": "f37ad17075af8d57",
   "outputs": [
    {
     "name": "stdout",
     "output_type": "stream",
     "text": [
      "Aku ingin data yang gede banget\n",
      "Aku ingin data yang gede banget\n",
      "Aku ingin data yang gede banget\n",
      "Aku ingin data yang gede banget\n"
     ]
    }
   ],
   "execution_count": 79
  },
  {
   "metadata": {},
   "cell_type": "markdown",
   "source": "#### Keyword control",
   "id": "fd74c40b2a5e8db9"
  },
  {
   "metadata": {
    "ExecuteTime": {
     "end_time": "2025-02-06T07:05:54.043883Z",
     "start_time": "2025-02-06T07:05:54.040259Z"
    }
   },
   "cell_type": "code",
   "source": [
    "for i in range(5):\n",
    "    if i == 2:\n",
    "        continue  # skip theis loop when i is equal to 2\n",
    "    if i == 4:\n",
    "        break  # stops the loop when i is equal to 4\n",
    "    print(i)"
   ],
   "id": "79046cc8cd46cc90",
   "outputs": [
    {
     "name": "stdout",
     "output_type": "stream",
     "text": [
      "0\n",
      "1\n",
      "3\n"
     ]
    }
   ],
   "execution_count": 80
  },
  {
   "metadata": {},
   "cell_type": "markdown",
   "source": "### Using while loop",
   "id": "11a5aad8897c7c08"
  },
  {
   "metadata": {
    "ExecuteTime": {
     "end_time": "2025-02-06T06:51:55.562572Z",
     "start_time": "2025-02-06T06:51:55.560166Z"
    }
   },
   "cell_type": "code",
   "source": [
    "count = 0\n",
    "while count < 4:\n",
    "    print(\"Keep the spirits up interns!\")\n",
    "    count += 1"
   ],
   "id": "c02437f519489dff",
   "outputs": [
    {
     "name": "stdout",
     "output_type": "stream",
     "text": [
      "Keep the spirits up interns!\n",
      "Keep the spirits up interns!\n",
      "Keep the spirits up interns!\n",
      "Keep the spirits up interns!\n"
     ]
    }
   ],
   "execution_count": 40
  }
 ],
 "metadata": {
  "kernelspec": {
   "display_name": "Python 3",
   "language": "python",
   "name": "python3"
  },
  "language_info": {
   "codemirror_mode": {
    "name": "ipython",
    "version": 2
   },
   "file_extension": ".py",
   "mimetype": "text/x-python",
   "name": "python",
   "nbconvert_exporter": "python",
   "pygments_lexer": "ipython2",
   "version": "2.7.6"
  }
 },
 "nbformat": 4,
 "nbformat_minor": 5
}

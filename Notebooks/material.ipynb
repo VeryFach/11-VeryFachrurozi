{
 "cells": [
  {
   "metadata": {},
   "cell_type": "markdown",
   "source": [
    "# WELCOME TO PYTHON 101 &#128212;\n",
    "\n",
    "![Learning Python](https://media.giphy.com/media/coxQHKASG60HrHtvkt/giphy.gif?cid=790b7611j007uace9f8pfdg86jtgwi1o4tsfvjl863xk3nbx&ep=v1_gifs_search&rid=giphy.gif&ct=g)\n",
    "\n",
    "## So let's get started\n",
    "\n",
    "Python is a popular [high level programming language](https://www.geeksforgeeks.org/what-is-high-level-language/). It was created by guido Van Rossum in 1991\n",
    "\n"
   ],
   "id": "ca829bee97d37fa2"
  },
  {
   "cell_type": "code",
   "id": "initial_id",
   "metadata": {
    "collapsed": true,
    "ExecuteTime": {
     "end_time": "2025-02-04T03:11:01.095869Z",
     "start_time": "2025-02-04T03:11:01.090838Z"
    }
   },
   "source": "test = 10\n",
   "outputs": [
    {
     "data": {
      "text/plain": [
       "10"
      ]
     },
     "execution_count": 2,
     "metadata": {},
     "output_type": "execute_result"
    }
   ],
   "execution_count": 2
  }
 ],
 "metadata": {
  "kernelspec": {
   "display_name": "Python 3",
   "language": "python",
   "name": "python3"
  },
  "language_info": {
   "codemirror_mode": {
    "name": "ipython",
    "version": 2
   },
   "file_extension": ".py",
   "mimetype": "text/x-python",
   "name": "python",
   "nbconvert_exporter": "python",
   "pygments_lexer": "ipython2",
   "version": "2.7.6"
  }
 },
 "nbformat": 4,
 "nbformat_minor": 5
}

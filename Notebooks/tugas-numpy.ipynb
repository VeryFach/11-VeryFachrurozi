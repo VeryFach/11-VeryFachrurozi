{
 "cells": [
  {
   "cell_type": "markdown",
   "id": "d947b9cf-215c-4b18-a0b8-963556c547c7",
   "metadata": {},
   "source": [
    "# **TUGAS NUMPY**\n",
    "\n",
    "---\n",
    "\n",
    "Nama: Very Fachrurozi\n",
    "\n",
    "NIM: 235150207111003"
   ]
  },
  {
   "cell_type": "markdown",
   "id": "392630c3-e396-4dde-8258-cfd1085fd39d",
   "metadata": {},
   "source": [
    "Setelah mengikuti workshop Numpy dan Pandas, tentunya kalian sudah mulai memahami hal-hal apa saja yang akan dilakukan oleh Data Scientist dengan Numpy. Sekarang, saatnya mengukur kemampuan kalian dari apa yang telah kalian dapatkan pada workshop sebelumnya.\n",
    "\n",
    "**Deadline: Jumat, 21 Februari 2025**\n"
   ]
  },
  {
   "cell_type": "markdown",
   "id": "eca339fb-851e-47d9-92a3-8811c04207ed",
   "metadata": {},
   "source": [
    "# **📊 Numpy Exercise 📊**\n",
    "\n",
    "Selamat datang di latihan eksplorasi data menggunakan **Numpy**!  \n",
    "\n",
    "---"
   ]
  },
  {
   "cell_type": "code",
   "execution_count": 1,
   "id": "1deac6a1",
   "metadata": {},
   "outputs": [],
   "source": [
    "import numpy as np"
   ]
  },
  {
   "cell_type": "markdown",
   "id": "ee73dcd6-dd10-4c9c-88ca-0eab4af9f337",
   "metadata": {},
   "source": [
    "## **📌 Soal 1: Regresi Linear** 📝\n",
    "\n",
    "Saat offline/online assessment kemarin ada persoalaan **Regresi Linear**, nah coba kamu buat menggunakan python dan numpy termasuk poin-poin berikut: <br>\n",
    "✅ Fungsi regresi mampu menerima array A dan array B dan memprediksi slope dan intercept<br>\n",
    "✅ Fungsi regresi mampu memprediksi nilai baru jika diberikan nilai X <br>"
   ]
  },
  {
   "cell_type": "code",
   "execution_count": 2,
   "id": "cbc3cb08-4559-41f8-ad23-1889bd6b5e7d",
   "metadata": {},
   "outputs": [
    {
     "name": "stdout",
     "output_type": "stream",
     "text": [
      "Intercept: 2.00, Slope: 0.00, Prediksi untuk X=6: 12.00\n"
     ]
    }
   ],
   "source": [
    "def linear_regression(a, b, x_pred):\n",
    "    a = np.array(a)\n",
    "    b = np.array(b)\n",
    "    \n",
    "    a_mean = np.mean(a)\n",
    "    b_mean = np.mean(b)\n",
    "    \n",
    "    b1 = np.sum((a - a_mean) * (b - b_mean))//np.sum((a - a_mean)**2)\n",
    "    b0 = b_mean - b1 * a_mean\n",
    "    \n",
    "    y_pred = b0 + b1 * x_pred\n",
    "    return b1, b0, y_pred\n",
    "    \n",
    "a = [1, 2, 3, 4, 5]\n",
    "b = [2, 4, 6, 8, 10]\n",
    "x_pred = 6\n",
    "b1, b0, prediction = linear_regression(a, b, x_pred)\n",
    "print(f\"Intercept: {b1:.2f}, Slope: {b0:.2f}, Prediksi untuk X={x_pred}: {prediction:.2f}\")"
   ]
  },
  {
   "cell_type": "markdown",
   "id": "a01ab4fc-cd05-4c79-bc0e-35f2412477d2",
   "metadata": {},
   "source": [
    "## **📌 Soal 2: Regresi Polinomial** 📝\n",
    "\n",
    "Saat offline/online assessment kemarin ada persoalan **Regresi Linear**, nah sekarang coba kamu buat **Regresi Polinomial** menggunakan Python dan NumPy, termasuk poin-poin berikut:<br>\n",
    "✅ Fungsi regresi mampu menerima array A dan array B serta menyesuaikan data dengan polinomial derajat tertentu.<br>\n",
    "✅ Fungsi regresi mampu memprediksi nilai baru jika diberikan nilai X.<br>\n",
    "✅ Hasil regresi mencetak koefisien polinomial yang dihasilkan.<br>"
   ]
  },
  {
   "cell_type": "code",
   "execution_count": 3,
   "id": "efaa13de-f42c-43e8-b726-3d4d849807ad",
   "metadata": {},
   "outputs": [
    {
     "name": "stdout",
     "output_type": "stream",
     "text": [
      "Koefisien polinomial: [ 1.00000000e+00 -2.26948902e-14  1.00000000e+00]\n",
      "Prediksi untuk x=6: y=37.000000000000064\n"
     ]
    }
   ],
   "source": [
    "def polynomial_regression(a, b, d):\n",
    "\n",
    "    koefisien = np.polyfit(a, b, d)\n",
    "    \n",
    "    print(\"Koefisien polinomial:\", koefisien)\n",
    "    \n",
    "    poly = np.poly1d(koefisien)\n",
    "    \n",
    "    return poly\n",
    "\n",
    "x = np.array([1, 2, 3, 4, 5])\n",
    "y = np.array([2, 5, 10, 17, 26])\n",
    "\n",
    "d = 2\n",
    "model = polynomial_regression(x, y, d)\n",
    "\n",
    "x_new = 6\n",
    "predicted = model(x_new)\n",
    "print(f\"Prediksi untuk x={x_new}: y={predicted}\")"
   ]
  },
  {
   "cell_type": "markdown",
   "id": "e187c964-3ab2-4ae3-a52c-4e6052c30911",
   "metadata": {},
   "source": [
    "## **📌 Soal 3: Random Values Array** 📝\n",
    "\n",
    "Pertama-tama, buatlah **Array Integer 10x10x10** dengan elemen **random** dan carikan:<br>\n",
    "1️⃣ Cari elemen minimum dan maksimum dalam array tersebut?<br>\n",
    "2️⃣ Carilah rata-rata dan median seluruh elemen dalam array tersebut?<br>"
   ]
  },
  {
   "cell_type": "code",
   "execution_count": 4,
   "id": "ba1aa95d-56ce-4834-8d73-7e27e4cc1901",
   "metadata": {},
   "outputs": [
    {
     "data": {
      "text/plain": [
       "array([[[ 3, 18, 11, 21, 25, 19,  3, 20, 24, 21],\n",
       "        [26, 26,  9, 26, 29, 19, 23,  3, 28,  7],\n",
       "        [ 2, 22,  5,  5, 13, 21,  0,  2,  6, 11],\n",
       "        [ 5,  6, 17,  4,  3,  3,  6,  9, 22, 11],\n",
       "        [ 0,  2, 14, 24,  5, 16, 14, 17,  5, 23],\n",
       "        [28,  8, 24,  3,  2,  7,  3, 29, 24,  0],\n",
       "        [ 2,  2, 19, 27, 12, 27, 10, 28,  4,  1],\n",
       "        [14, 27,  1,  5, 20, 28, 12, 11, 20, 21],\n",
       "        [28, 16, 29, 19, 15, 24,  7, 27, 28, 12],\n",
       "        [11,  7,  9, 17,  0,  2, 26, 26,  1,  2]],\n",
       "\n",
       "       [[ 8,  2, 25,  2,  4, 18,  3, 26, 26, 27],\n",
       "        [17,  0, 21,  5, 14, 12, 28,  3, 27, 27],\n",
       "        [ 3,  3, 28,  7, 18, 17, 28,  4, 21, 17],\n",
       "        [25,  5,  6, 14, 16, 10, 22,  3,  6, 28],\n",
       "        [10, 15, 12, 17, 23,  0, 23, 22, 16, 27],\n",
       "        [16,  5, 16, 12, 19, 19, 25,  0,  7, 11],\n",
       "        [12,  4,  5,  8, 18, 15, 16, 13, 17,  9],\n",
       "        [28,  3, 25, 18, 17, 14, 21, 10, 23, 11],\n",
       "        [ 6, 18,  4,  4,  3,  3, 12, 18,  5,  0],\n",
       "        [ 3, 15, 26, 23, 28,  6, 28, 21, 29,  2]],\n",
       "\n",
       "       [[ 4,  3,  8, 14, 22, 21,  6, 20, 12, 13],\n",
       "        [ 0,  9, 19, 12,  2, 15, 10, 14, 26, 27],\n",
       "        [26,  8, 25, 12,  1, 29, 10,  3,  3, 19],\n",
       "        [26,  8,  9,  6, 17, 11, 17, 10,  4, 18],\n",
       "        [17, 14,  2, 12, 20, 28, 18, 21, 16, 28],\n",
       "        [21,  5, 19,  6, 22, 27, 19,  1,  7, 26],\n",
       "        [ 7,  9, 28, 27,  5, 20, 25,  3, 28,  4],\n",
       "        [24, 19, 11,  2, 23,  0, 26, 29, 28, 29],\n",
       "        [27, 22, 22,  6, 21, 16, 29, 12,  5,  4],\n",
       "        [25,  6, 14,  3,  6,  6,  0, 12,  0, 10]],\n",
       "\n",
       "       [[19, 28,  3, 17, 12, 18,  2, 13,  6, 23],\n",
       "        [28, 27,  5,  4, 12,  1,  4,  2, 11, 10],\n",
       "        [ 6, 15,  2, 25, 22,  2,  9, 28,  8,  5],\n",
       "        [ 9, 10, 26,  8,  9,  8, 21,  2,  6,  6],\n",
       "        [ 2, 13, 18, 20, 10, 23, 16, 21,  8,  0],\n",
       "        [15, 12, 15, 10, 17, 13,  2, 11,  4, 21],\n",
       "        [15, 28,  9, 12,  5, 20, 18, 13, 15, 25],\n",
       "        [ 3, 26, 18, 13,  6, 15, 21,  7,  2,  2],\n",
       "        [ 7,  8,  6, 16, 27, 29,  6,  6,  3,  2],\n",
       "        [28, 14, 11, 23, 24, 14, 19, 12,  4, 11]],\n",
       "\n",
       "       [[16, 14, 27,  0, 12,  8,  0, 12,  3, 25],\n",
       "        [ 2, 21, 23,  1,  4,  5,  1,  1,  4, 15],\n",
       "        [ 2, 24, 26, 29, 22, 14,  5, 18, 14, 20],\n",
       "        [13,  9, 22, 17,  9, 19,  4, 21, 13, 27],\n",
       "        [13,  9, 19, 22, 17,  5,  4,  2, 18, 14],\n",
       "        [18,  1,  9, 28, 16, 26,  9,  4, 25,  5],\n",
       "        [14,  4,  9, 16,  3, 18,  6, 28, 14, 13],\n",
       "        [ 6,  2, 15, 20, 16,  1, 16, 23,  0,  3],\n",
       "        [ 4, 24,  5,  0,  0, 15, 17, 13,  5, 23],\n",
       "        [ 2, 26,  7, 27, 16, 19, 25, 26, 24,  1]],\n",
       "\n",
       "       [[26, 14, 13, 24, 13, 15,  1,  2, 27,  8],\n",
       "        [28, 22,  2, 18, 14, 10,  0, 22,  3, 16],\n",
       "        [ 8, 18,  3, 23, 25, 16,  4, 10, 18,  5],\n",
       "        [ 5, 28,  1, 13, 20, 24,  0,  3,  9, 14],\n",
       "        [17, 13, 22,  4, 14,  6, 15,  3, 27, 11],\n",
       "        [14, 26, 12, 19, 15, 26,  4, 12, 20, 29],\n",
       "        [ 7, 21, 18, 22,  5, 21, 25, 18,  3, 23],\n",
       "        [ 5, 27,  1,  8, 16, 25, 20,  6, 29, 22],\n",
       "        [26, 27, 20, 12,  9,  6,  9, 27,  8,  3],\n",
       "        [20,  1, 13, 23, 24,  7, 12, 15, 15,  3]],\n",
       "\n",
       "       [[ 5, 29,  1,  0, 24, 27,  4,  3,  5, 20],\n",
       "        [15,  2,  8, 26,  3,  8, 13, 26,  8, 25],\n",
       "        [26, 16,  9, 12,  4,  9, 23, 28, 24,  2],\n",
       "        [ 2, 26,  0, 21, 17,  3,  2, 21, 10, 25],\n",
       "        [22, 11, 19, 29, 11, 13, 19,  3, 29,  5],\n",
       "        [24,  0, 18, 28, 15, 12, 29, 17, 21, 17],\n",
       "        [27, 27,  6, 12,  1,  2,  3, 17,  1, 15],\n",
       "        [ 2, 17, 13, 13,  7, 29, 29, 22,  4,  2],\n",
       "        [28,  2,  9, 11, 15,  0, 26, 18, 18, 25],\n",
       "        [15, 25, 14,  5, 11,  5,  7, 26, 28,  9]],\n",
       "\n",
       "       [[19, 20, 19, 24,  7, 15, 26,  2, 27, 11],\n",
       "        [27, 10,  1,  6,  7, 27, 14, 18, 28, 12],\n",
       "        [16, 24,  3, 17,  0, 23,  5, 19, 27, 17],\n",
       "        [14, 11,  2,  2, 20,  9, 21, 21, 23,  2],\n",
       "        [21,  9, 18, 21, 23, 27, 20,  8,  8,  9],\n",
       "        [15,  6, 18, 19, 15,  7, 29,  6, 28, 21],\n",
       "        [29, 28, 13, 17, 16, 10, 19,  4, 23,  1],\n",
       "        [ 4, 11,  4, 19, 11,  8, 14, 13, 28, 10],\n",
       "        [27, 21, 25,  8, 15, 17,  8, 12,  3, 12],\n",
       "        [14, 24, 13,  6, 15, 23, 10, 17,  2,  3]],\n",
       "\n",
       "       [[21,  9,  7, 17,  2, 17,  1, 28,  5,  0],\n",
       "        [17,  3, 20, 27, 26, 17, 10,  7, 25, 21],\n",
       "        [20, 27,  9, 26, 21,  7,  7, 27, 27,  8],\n",
       "        [ 1,  0, 15, 27, 27, 26,  0, 21, 21,  3],\n",
       "        [11, 16, 13, 21, 14, 28, 23,  9, 23, 16],\n",
       "        [ 8, 24, 12, 21,  3, 19, 12, 10,  7, 11],\n",
       "        [23, 19,  0, 24, 28, 20, 19,  5, 10, 18],\n",
       "        [10,  3, 14,  8, 28,  5, 19,  4, 18,  8],\n",
       "        [ 4, 28, 14, 26, 27, 28,  5, 11, 17, 24],\n",
       "        [ 4, 28,  8,  7,  0, 18, 12, 17,  0, 15]],\n",
       "\n",
       "       [[18,  6,  3, 10,  7,  0, 11, 29, 17, 24],\n",
       "        [19, 16, 27, 16, 13,  7,  4, 20,  3, 22],\n",
       "        [ 9,  0, 28,  5, 24,  7, 12, 19,  0,  3],\n",
       "        [24, 22, 14, 25,  6, 17, 26, 11, 22, 17],\n",
       "        [20,  1, 27, 21, 21,  4,  1, 15, 20,  7],\n",
       "        [27,  0,  3, 11,  0, 29, 27, 21, 26, 20],\n",
       "        [26, 11,  8, 23, 27, 12,  7, 16, 26, 17],\n",
       "        [27,  0, 17,  8, 22, 17, 22, 24,  6,  0],\n",
       "        [ 2, 14, 26,  0, 11, 23, 27,  5, 19, 24],\n",
       "        [ 0, 23, 29, 18,  8, 23, 29, 27,  5, 24]]])"
      ]
     },
     "execution_count": 4,
     "metadata": {},
     "output_type": "execute_result"
    }
   ],
   "source": [
    "a = np.random.randint(0,30,(10,10,10))\n",
    "a"
   ]
  },
  {
   "cell_type": "code",
   "execution_count": 5,
   "id": "c7cd0420-9393-449a-bcec-e5947b24b327",
   "metadata": {},
   "outputs": [
    {
     "name": "stdout",
     "output_type": "stream",
     "text": [
      "Element Minimum : 0 , & Element Maksimal : 29\n"
     ]
    }
   ],
   "source": [
    "minimum = np.min(a)\n",
    "maxsimum = np.max(a)\n",
    "print(f\"Element Minimum : {minimum} , & Element Maksimal : {maxsimum}\" )"
   ]
  },
  {
   "cell_type": "code",
   "execution_count": 6,
   "id": "c0eeac5b",
   "metadata": {},
   "outputs": [
    {
     "name": "stdout",
     "output_type": "stream",
     "text": [
      "Mean : 14.121, & Median : 14.0\n"
     ]
    }
   ],
   "source": [
    "mean = np.mean(a)\n",
    "median = np.median(a)\n",
    "print(f\"Mean : {mean}, & Median : {median}\")"
   ]
  },
  {
   "cell_type": "markdown",
   "id": "1f248c96-688d-462a-b41e-5a2275be5fde",
   "metadata": {},
   "source": [
    "## **📌 Soal 4: 2D Array Shenanigans** 📝\n",
    "\n",
    "Tugas kamu disini adalah membuat **Array 2D** sesuai ketentuan masing-masing soal: <br>\n",
    "1️⃣ Buatlah **array 10x10** yang memiliki angka \"5\" sebagai bingkai di seluruh tepi luar dan bagian dalam (selain array) berisi \"8\"? <br>\n",
    "2️⃣ Buatlah **array 2d 8x8** dengan pola seperti **checkboard/catur** (1 untuk kotak hitam, 0 untuk kotak putih)?<br>\n",
    "3️⃣ Buatlah **array 2d 15x15** dengan aturan sebagai berikut:\n",
    "- Jika suatu angka dapat dibagi 2, isi dengan 2.\n",
    "- Jika suatu angka dapat dibagi 3, isi dengan 3.\n",
    "- Jika suatu angka dapat dibagi 5, isi dengan 5.\n",
    "- Jika suatu angka dapat dibagi oleh lebih dari satu kondisi (misal, 6 bisa dibagi 2 & 3), maka simpan gabungan angka tersebut (misal, 6 → \"23\", 15 → \"35\").\n",
    "- Jika tidak memenuhi kondisi apa pun, isi dengan 0."
   ]
  },
  {
   "cell_type": "code",
   "execution_count": 7,
   "id": "e4974640-df15-43f7-9ae5-fdc8ff8f47dd",
   "metadata": {},
   "outputs": [
    {
     "data": {
      "text/plain": [
       "array([[5, 5, 5, 5, 5, 5, 5, 5, 5, 5],\n",
       "       [5, 8, 8, 8, 8, 8, 8, 8, 8, 5],\n",
       "       [5, 8, 8, 8, 8, 8, 8, 8, 8, 5],\n",
       "       [5, 8, 8, 8, 8, 8, 8, 8, 8, 5],\n",
       "       [5, 8, 8, 8, 8, 8, 8, 8, 8, 5],\n",
       "       [5, 8, 8, 8, 8, 8, 8, 8, 8, 5],\n",
       "       [5, 8, 8, 8, 8, 8, 8, 8, 8, 5],\n",
       "       [5, 8, 8, 8, 8, 8, 8, 8, 8, 5],\n",
       "       [5, 8, 8, 8, 8, 8, 8, 8, 8, 5],\n",
       "       [5, 5, 5, 5, 5, 5, 5, 5, 5, 5]])"
      ]
     },
     "execution_count": 7,
     "metadata": {},
     "output_type": "execute_result"
    }
   ],
   "source": [
    "a_array = np.full((10,10),8)\n",
    "a_array[0,:] = 5\n",
    "a_array[-1,:] = 5\n",
    "a_array[:,0] = 5\n",
    "a_array[:,-1] = 5\n",
    "a_array"
   ]
  },
  {
   "cell_type": "code",
   "execution_count": 8,
   "id": "0af5bcce-4fe7-489e-a23e-24e7ca11108f",
   "metadata": {},
   "outputs": [
    {
     "data": {
      "text/plain": [
       "array([[0, 1, 0, 1, 0, 1, 0, 1],\n",
       "       [1, 0, 1, 0, 1, 0, 1, 0],\n",
       "       [0, 1, 0, 1, 0, 1, 0, 1],\n",
       "       [1, 0, 1, 0, 1, 0, 1, 0],\n",
       "       [0, 1, 0, 1, 0, 1, 0, 1],\n",
       "       [1, 0, 1, 0, 1, 0, 1, 0],\n",
       "       [0, 1, 0, 1, 0, 1, 0, 1],\n",
       "       [1, 0, 1, 0, 1, 0, 1, 0]])"
      ]
     },
     "execution_count": 8,
     "metadata": {},
     "output_type": "execute_result"
    }
   ],
   "source": [
    "b_array = np.zeros((8,8), dtype=int)\n",
    "b_array[1::2, ::2] = 1\n",
    "b_array[::2, 1::2] = 1\n",
    "b_array"
   ]
  },
  {
   "cell_type": "code",
   "execution_count": 9,
   "id": "5e591f0a-78d8-47e4-97d5-d56bff180984",
   "metadata": {},
   "outputs": [
    {
     "name": "stdout",
     "output_type": "stream",
     "text": [
      "[['0' '2' '3' '2' '5' '23' '0' '2' '3' '25' '0' '23' '0' '2' '35']\n",
      " ['2' '0' '23' '0' '25' '3' '2' '0' '23' '5' '2' '3' '2' '0' '235']\n",
      " ['0' '2' '3' '2' '5' '23' '0' '2' '3' '25' '0' '23' '0' '2' '35']\n",
      " ['2' '0' '23' '0' '25' '3' '2' '0' '23' '5' '2' '3' '2' '0' '235']\n",
      " ['0' '2' '3' '2' '5' '23' '0' '2' '3' '25' '0' '23' '0' '2' '35']\n",
      " ['2' '0' '23' '0' '25' '3' '2' '0' '23' '5' '2' '3' '2' '0' '235']\n",
      " ['0' '2' '3' '2' '5' '23' '0' '2' '3' '25' '0' '23' '0' '2' '35']\n",
      " ['2' '0' '23' '0' '25' '3' '2' '0' '23' '5' '2' '3' '2' '0' '235']\n",
      " ['0' '2' '3' '2' '5' '23' '0' '2' '3' '25' '0' '23' '0' '2' '35']\n",
      " ['2' '0' '23' '0' '25' '3' '2' '0' '23' '5' '2' '3' '2' '0' '235']\n",
      " ['0' '2' '3' '2' '5' '23' '0' '2' '3' '25' '0' '23' '0' '2' '35']\n",
      " ['2' '0' '23' '0' '25' '3' '2' '0' '23' '5' '2' '3' '2' '0' '235']\n",
      " ['0' '2' '3' '2' '5' '23' '0' '2' '3' '25' '0' '23' '0' '2' '35']\n",
      " ['2' '0' '23' '0' '25' '3' '2' '0' '23' '5' '2' '3' '2' '0' '235']\n",
      " ['0' '2' '3' '2' '5' '23' '0' '2' '3' '25' '0' '23' '0' '2' '35']]\n"
     ]
    }
   ],
   "source": [
    "angka = np.arange(1, 226).reshape(15,15)\n",
    "c_array = np.full(angka.shape,\" \", dtype=object)\n",
    "\n",
    "for i in range (15):\n",
    "    for j in range(15):\n",
    "        nilai = angka[i,j]\n",
    "        hasil = \"\"\n",
    "        if nilai % 2 == 0:\n",
    "            hasil += \"2\"\n",
    "        if nilai % 3 == 0:\n",
    "            hasil += \"3\"\n",
    "        if nilai % 5 == 0:\n",
    "            hasil += \"5\"\n",
    "        c_array[i,j] = hasil if hasil else \"0\"\n",
    "        \n",
    "print(c_array)"
   ]
  },
  {
   "cell_type": "markdown",
   "id": "4b963ba6-4272-4773-ab58-33ade2e536bd",
   "metadata": {},
   "source": [
    "## **📌 Soal 5: Time & Date** 📝\n",
    "\n",
    "Kamu disini diminta untuk memanfaatkan fitur numpy untuk tanggal: <br>\n",
    "1️⃣ Bagaimana dengan numpy, kamu bisa mendapatkan tanggal hari ini, kemarin dan esok hari?<br>\n",
    "2️⃣ Tampilkan hari yang ada di bulan Mei tahun 2020?<br>"
   ]
  },
  {
   "cell_type": "code",
   "execution_count": 10,
   "id": "fdbf1391",
   "metadata": {},
   "outputs": [
    {
     "name": "stdout",
     "output_type": "stream",
     "text": [
      "Kemarin:  2025-02-20\n",
      "Hari ini:  2025-02-21\n",
      "Esok hari:  2025-02-22\n"
     ]
    }
   ],
   "source": [
    "yesterday = np.datetime64('today', 'D') - np.timedelta64(1, 'D')\n",
    "print(\"Kemarin: \", yesterday)\n",
    "\n",
    "today = np.datetime64('today', 'D')\n",
    "print(\"Hari ini: \", today)\n",
    "\n",
    "tomorrow = np.datetime64('today', 'D') + np.timedelta64(1, 'D')\n",
    "print(\"Esok hari: \", tomorrow)"
   ]
  },
  {
   "cell_type": "code",
   "execution_count": 12,
   "id": "ac7ccf05-97da-484f-96c9-fc578e62bbbe",
   "metadata": {},
   "outputs": [
    {
     "name": "stdout",
     "output_type": "stream",
     "text": [
      "2020-05-01\n",
      "2020-05-02\n",
      "2020-05-03\n",
      "2020-05-04\n",
      "2020-05-05\n",
      "2020-05-06\n",
      "2020-05-07\n",
      "2020-05-08\n",
      "2020-05-09\n",
      "2020-05-10\n",
      "2020-05-11\n",
      "2020-05-12\n",
      "2020-05-13\n",
      "2020-05-14\n",
      "2020-05-15\n",
      "2020-05-16\n",
      "2020-05-17\n",
      "2020-05-18\n",
      "2020-05-19\n",
      "2020-05-20\n",
      "2020-05-21\n",
      "2020-05-22\n",
      "2020-05-23\n",
      "2020-05-24\n",
      "2020-05-25\n",
      "2020-05-26\n",
      "2020-05-27\n",
      "2020-05-28\n",
      "2020-05-29\n",
      "2020-05-30\n",
      "2020-05-31\n"
     ]
    }
   ],
   "source": [
    "start = np.datetime64('2020-05-01')\n",
    "end = np.datetime64('2020-05-31')\n",
    "\n",
    "dates = np.arange(start, end + np.timedelta64(1, 'D'), dtype='datetime64[D]')\n",
    "\n",
    "for date in dates:\n",
    "    print(date)"
   ]
  },
  {
   "cell_type": "markdown",
   "id": "eccc9d2f-8a7a-424c-ab89-ad5e52ca20a4",
   "metadata": {},
   "source": [
    "## **📌 Soal 6: Slicing** 📝\n",
    "\n",
    "Jika diketahui array `A`, maka buatlah program untuk mendapatkan elemen dibawah ini:\n",
    "```python\n",
    "A = np.array([\n",
    "    [10, 20, 30, 40, 50, 60],\n",
    "    [70, 80, 90, 100, 110, 120],\n",
    "    [130, 140, 150, 160, 170, 180],\n",
    "    [190, 200, 210, 220, 230, 240],\n",
    "    [250, 260, 270, 280, 290, 300]\n",
    "])\n",
    "```\n",
    "\n",
    "1️⃣ Ambil elemen yang berada pada baris `ke-4` dan kolom `ke-2` dari array `A` <br>\n",
    "2️⃣ Buat `array 2D` yang hanya berisi bilangan prima dari `A` <br>\n",
    "3️⃣ Ambil elemen-elemen yang berada di tepi luar dari array `A` dan gabungkan menjadi `Satu array 1D`. <br>\n",
    "4️⃣ Dapatkan subbarray berikut:\n",
    "```python\n",
    "[[20, 40, 60],\n",
    " [80, 100, 120],\n",
    " [140, 160, 180],\n",
    " [200, 220, 240],\n",
    " [260, 280, 300]]\n",
    "```\n",
    "5️⃣ Dapatkan subbarray berikut:\n",
    "```python\n",
    " [[30, 40],\n",
    " [90, 100],\n",
    " [150, 160],\n",
    " [210, 220]]\n",
    "```"
   ]
  },
  {
   "cell_type": "code",
   "execution_count": 14,
   "id": "4ef1d236-2f82-45f5-a50a-bd202aef8084",
   "metadata": {},
   "outputs": [],
   "source": [
    "A = np.array([\n",
    "    [10, 20, 30, 40, 50, 60],\n",
    "    [70, 80, 90, 100, 110, 120],\n",
    "    [130, 140, 150, 160, 170, 180],\n",
    "    [190, 200, 210, 220, 230, 240],\n",
    "    [250, 260, 270, 280, 290, 300]\n",
    "])"
   ]
  },
  {
   "cell_type": "code",
   "execution_count": null,
   "id": "e719e525-cf78-484e-9c40-a708a58b387e",
   "metadata": {},
   "outputs": [
    {
     "data": {
      "text/plain": [
       "200"
      ]
     },
     "execution_count": 15,
     "metadata": {},
     "output_type": "execute_result"
    }
   ],
   "source": [
    "# elemen yang berada pada baris ke-4 dan kolom ke-2 dari array A\n",
    "A[3,1]"
   ]
  },
  {
   "cell_type": "code",
   "execution_count": 28,
   "id": "f9b0d1e6-c30b-4828-8ad3-0a71367905ba",
   "metadata": {},
   "outputs": [
    {
     "name": "stdout",
     "output_type": "stream",
     "text": [
      "Tidak ada bilangan prima\n"
     ]
    }
   ],
   "source": [
    "# array 2d bilangan prima dari A\n",
    "def prime(n):\n",
    "    if n < 2:\n",
    "        return False\n",
    "    for i in range(2, int(n**0.5) + 1):\n",
    "        if n % i == 0:\n",
    "            return False\n",
    "    return True\n",
    "\n",
    "prime_mask = np.vectorize(prime)(A)\n",
    "primes = A[prime_mask]\n",
    "\n",
    "if primes.size > 0:\n",
    "    primes_2D = primes.reshape(-1, primes.shape[0] // 2)\n",
    "    print(primes_2D)\n",
    "else:\n",
    "    print(\"Tidak ada bilangan prima\")"
   ]
  },
  {
   "cell_type": "code",
   "execution_count": 20,
   "id": "cc637fd0-78d7-45f8-b4e8-dbde6c3e6dfc",
   "metadata": {},
   "outputs": [
    {
     "data": {
      "text/plain": [
       "array([ 10,  20,  30,  40,  50,  60, 120, 180, 240, 300, 290, 280, 270,\n",
       "       260, 250, 190, 130,  70])"
      ]
     },
     "execution_count": 20,
     "metadata": {},
     "output_type": "execute_result"
    }
   ],
   "source": [
    "# Ambil elemen-elemen di tepi luar dan gabungkan menjadi array 1D\n",
    "tepi_atas = A[0, :]\n",
    "tepi_bawah = A[-1, :]\n",
    "tepi_kiri = A[1:-1, 0]\n",
    "tepi_kanan = A[1:-1, -1]\n",
    "tepi_luar = np.concatenate([tepi_atas, tepi_kanan, tepi_bawah[::-1], tepi_kiri[::-1]])\n",
    "tepi_luar"
   ]
  },
  {
   "cell_type": "code",
   "execution_count": 21,
   "id": "f52e24b4-98f6-41fe-9aab-8d9d243c16e1",
   "metadata": {},
   "outputs": [
    {
     "name": "stdout",
     "output_type": "stream",
     "text": [
      "[[ 20  40  60]\n",
      " [ 80 100 120]\n",
      " [140 160 180]\n",
      " [200 220 240]\n",
      " [260 280 300]]\n"
     ]
    }
   ],
   "source": [
    "# Dapatkan subarray [[20, 40, 60], [80, 100, 120], ...]\n",
    "subarray = A[:, 1::2]\n",
    "print(subarray)"
   ]
  },
  {
   "cell_type": "code",
   "execution_count": 22,
   "id": "cfeed69f",
   "metadata": {},
   "outputs": [
    {
     "name": "stdout",
     "output_type": "stream",
     "text": [
      "[[ 30  40]\n",
      " [ 90 100]\n",
      " [150 160]\n",
      " [210 220]]\n"
     ]
    }
   ],
   "source": [
    "# Dapatkan subarray [[30, 40], [90, 100], ...]\n",
    "subarray_5 = A[:4, 2:4]\n",
    "print(subarray_5)"
   ]
  },
  {
   "cell_type": "markdown",
   "id": "c69b198a-5558-4ca3-8dea-c5a8d1ca81e9",
   "metadata": {},
   "source": [
    "## **📌 Soal 7: Ekspansi Array** 📝\n",
    "\n",
    "Jika kamu memiliki array ***Z = [1,2,3,4,5,6,7,8,9,10,11,12,13,14]***, buatlah kode untuk membuat array R berupa: <br>\n",
    "***R = [[1,2,3,4], [2,3,4,5], [3,4,5,6], ..., [11,12,13,14]]***?"
   ]
  },
  {
   "cell_type": "code",
   "execution_count": 25,
   "id": "6f77ba10-4474-44cd-aa7c-5a6c3940e22a",
   "metadata": {},
   "outputs": [
    {
     "name": "stdout",
     "output_type": "stream",
     "text": [
      "R =\n",
      " [[ 1  2  3  4]\n",
      " [ 2  3  4  5]\n",
      " [ 3  4  5  6]\n",
      " [ 4  5  6  7]\n",
      " [ 5  6  7  8]\n",
      " [ 6  7  8  9]\n",
      " [ 7  8  9 10]\n",
      " [ 8  9 10 11]\n",
      " [ 9 10 11 12]\n",
      " [10 11 12 13]\n",
      " [11 12 13 14]]\n"
     ]
    }
   ],
   "source": [
    "Z = np.array([1, 2, 3, 4, 5, 6, 7, 8, 9, 10, 11, 12, 13, 14])\n",
    "\n",
    "R = np.array([Z[i:i+4] for i in range(len(Z) - 3)])\n",
    "\n",
    "print(\"R =\\n\", R)"
   ]
  }
 ],
 "metadata": {
  "kernelspec": {
   "display_name": "Python 3",
   "language": "python",
   "name": "python3"
  },
  "language_info": {
   "codemirror_mode": {
    "name": "ipython",
    "version": 3
   },
   "file_extension": ".py",
   "mimetype": "text/x-python",
   "name": "python",
   "nbconvert_exporter": "python",
   "pygments_lexer": "ipython3",
   "version": "3.11.9"
  }
 },
 "nbformat": 4,
 "nbformat_minor": 5
}

{
 "cells": [
  {
   "metadata": {},
   "cell_type": "markdown",
   "source": [
    "# WELCOME TO PYTHON 101 &#128212;\n",
    "\n",
    "![Learning Python](https://media.giphy.com/media/coxQHKASG60HrHtvkt/giphy.gif?cid=790b7611j007uace9f8pfdg86jtgwi1o4tsfvjl863xk3nbx&ep=v1_gifs_search&rid=giphy.gif&ct=g)\n",
    "\n",
    "## So let's get started\n",
    "\n",
    "Python is a popular [high level programming language](https://www.geeksforgeeks.org/what-is-high-level-language/) created by Guido Van Rossum in 1991. It's used in diverse roles such as :\n",
    "- Web Development\n",
    "- Game Development, and also...\n",
    "- &#128171; **All data roles** &#128171; , name it... Data Science, Data Analysis, Data Engineering, Machine Learning, etc.\n",
    "\n",
    "## How it works?\n",
    "Python doesn’t convert its code into machine code. It converts it into byte code. So within Python, compilation happens, but it’s just not in a machine language. It is into byte code (.pyc or .pyo) and this byte code can’t be understood by the CPU. So we need an interpreter called the Python virtual machine to execute the byte codes. For more details you could check from these resources :\n",
    "- https://www.geeksforgeeks.org/internal-working-of-python/\n",
    "\n",
    "### Enough yapping, let's dive into the code shall we? &#128583;\n",
    "\n",
    "\n",
    "\n"
   ],
   "id": "ca829bee97d37fa2"
  },
  {
   "metadata": {},
   "cell_type": "markdown",
   "source": [
    "# 1) How to print a simple hello world?\n",
    "\n",
    "Well... it's simple, just create a .py/.ipynb file than code"
   ],
   "id": "83de06bb9a604d01"
  },
  {
   "metadata": {
    "collapsed": true,
    "ExecuteTime": {
     "end_time": "2025-02-05T15:41:54.064803Z",
     "start_time": "2025-02-05T15:41:54.062207Z"
    }
   },
   "cell_type": "code",
   "source": [
    "print(\"hello world\")\n",
    "\n",
    "# see? ez pz"
   ],
   "id": "initial_id",
   "outputs": [
    {
     "name": "stdout",
     "output_type": "stream",
     "text": [
      "hello world\n"
     ]
    }
   ],
   "execution_count": 29
  },
  {
   "metadata": {},
   "cell_type": "markdown",
   "source": [
    "# 2) Declaring Variables\n",
    "\n",
    "Not like ~~Jawa~~ Java, Python has no command for declaring a variable"
   ],
   "id": "dc50aee0e084100f"
  },
  {
   "metadata": {
    "ExecuteTime": {
     "end_time": "2025-02-05T15:41:54.092023Z",
     "start_time": "2025-02-05T15:41:54.089465Z"
    }
   },
   "cell_type": "code",
   "source": [
    "x = 10\n",
    "y = \"wawan\"\n",
    "print(x)\n",
    "print(y)"
   ],
   "id": "9d6d215fdb4a0982",
   "outputs": [
    {
     "name": "stdout",
     "output_type": "stream",
     "text": [
      "10\n",
      "wawan\n"
     ]
    }
   ],
   "execution_count": 30
  },
  {
   "metadata": {},
   "cell_type": "markdown",
   "source": "Python can change type after they have been set",
   "id": "f926c4ddeb0b0cda"
  },
  {
   "metadata": {
    "ExecuteTime": {
     "end_time": "2025-02-05T15:41:54.141532Z",
     "start_time": "2025-02-05T15:41:54.139117Z"
    }
   },
   "cell_type": "code",
   "source": [
    "p = 999.8 # from float\n",
    "p = \"Mencetak info\" # to string\n",
    "print(type(p))"
   ],
   "id": "dee5a7f925bc3828",
   "outputs": [
    {
     "name": "stdout",
     "output_type": "stream",
     "text": [
      "<class 'str'>\n"
     ]
    }
   ],
   "execution_count": 31
  },
  {
   "metadata": {},
   "cell_type": "markdown",
   "source": [
    "# 3) Primitive Data Types\n",
    "\n",
    "Primitive data types are basic categories that it used for to save data's / information's into the computer program. It has 6 primitive data types :\n",
    "- `int` -> Data type for integers\n",
    "- `float` -> Data type for decimal or fractional numbers\n",
    "- `complex` -> Data type for complex numbers\n",
    "- `string` -> A data type for storing text or a sequence of characters\n",
    "- `boolean` -> A data type that has only two values (True or False)\n",
    "- `none`\n",
    "\n",
    "### Numbers"
   ],
   "id": "d66b26c9bde78d3"
  },
  {
   "metadata": {
    "ExecuteTime": {
     "end_time": "2025-02-05T15:41:54.191746Z",
     "start_time": "2025-02-05T15:41:54.189213Z"
    }
   },
   "cell_type": "code",
   "source": [
    "# Integer\n",
    "c = 8\n",
    "print(c)\n",
    "print(type(c))"
   ],
   "id": "fed7737f6a944f61",
   "outputs": [
    {
     "name": "stdout",
     "output_type": "stream",
     "text": [
      "8\n",
      "<class 'int'>\n"
     ]
    }
   ],
   "execution_count": 32
  },
  {
   "metadata": {
    "ExecuteTime": {
     "end_time": "2025-02-05T15:41:54.241041Z",
     "start_time": "2025-02-05T15:41:54.238979Z"
    }
   },
   "cell_type": "code",
   "source": [
    "# float\n",
    "v = 3.09\n",
    "print(v)\n",
    "print(type(v))"
   ],
   "id": "f409d62d4b2512c6",
   "outputs": [
    {
     "name": "stdout",
     "output_type": "stream",
     "text": [
      "3.09\n",
      "<class 'float'>\n"
     ]
    }
   ],
   "execution_count": 33
  },
  {
   "metadata": {
    "ExecuteTime": {
     "end_time": "2025-02-05T15:41:54.293833Z",
     "start_time": "2025-02-05T15:41:54.289467Z"
    }
   },
   "cell_type": "code",
   "source": [
    "# Complex\n",
    "# Complex numbers are written with a \"j\" as the imaginary part:\n",
    "q = 5+9J\n",
    "r = 3j\n",
    "s = -9j\n",
    "print(q)\n",
    "print(type(q), \"\\n\")\n",
    "print(r)\n",
    "print(type(r), \"\\n\")\n",
    "print(s)\n",
    "print(type(s))"
   ],
   "id": "beb0b151772f47d9",
   "outputs": [
    {
     "name": "stdout",
     "output_type": "stream",
     "text": [
      "(5+9j)\n",
      "<class 'complex'> \n",
      "\n",
      "3j\n",
      "<class 'complex'> \n",
      "\n",
      "(-0-9j)\n",
      "<class 'complex'>\n"
     ]
    }
   ],
   "execution_count": 34
  },
  {
   "metadata": {},
   "cell_type": "markdown",
   "source": "### Strings",
   "id": "3a1c5b5007aea49d"
  },
  {
   "metadata": {
    "ExecuteTime": {
     "end_time": "2025-02-05T15:41:54.350930Z",
     "start_time": "2025-02-05T15:41:54.347854Z"
    }
   },
   "cell_type": "code",
   "source": [
    "a = \"p mabar valo\"\n",
    "print(a)\n",
    "print(type(a), \"\\n\")\n",
    "\n",
    "# is the same thing as\n",
    "\n",
    "b = 'p mabar valo'\n",
    "print(b)\n",
    "print(type(b))"
   ],
   "id": "651cb4b8b93759a9",
   "outputs": [
    {
     "name": "stdout",
     "output_type": "stream",
     "text": [
      "p mabar valo\n",
      "<class 'str'> \n",
      "\n",
      "p mabar valo\n",
      "<class 'str'>\n"
     ]
    }
   ],
   "execution_count": 35
  },
  {
   "metadata": {
    "ExecuteTime": {
     "end_time": "2025-02-05T15:41:54.396995Z",
     "start_time": "2025-02-05T15:41:54.394342Z"
    }
   },
   "cell_type": "code",
   "source": [
    "var = 'My momma said \"you need to take a bath\"'\n",
    "print(var)\n",
    "print(type(var), \"\\n\")\n",
    "\n",
    "# is the same data type as\n",
    "\n",
    "var1 = \"My momma said 'you need to take a bath'\"\n",
    "print(var1)\n",
    "print(type(var1))"
   ],
   "id": "b75a0b73b758efd6",
   "outputs": [
    {
     "name": "stdout",
     "output_type": "stream",
     "text": [
      "My momma said \"you need to take a bath\"\n",
      "<class 'str'> \n",
      "\n",
      "My momma said 'you need to take a bath'\n",
      "<class 'str'>\n"
     ]
    }
   ],
   "execution_count": 36
  },
  {
   "metadata": {
    "ExecuteTime": {
     "end_time": "2025-02-05T15:41:54.446577Z",
     "start_time": "2025-02-05T15:41:54.443935Z"
    }
   },
   "cell_type": "code",
   "source": [
    "variable = \"this is line zero\\n this is line one\"\n",
    "print(variable)\n",
    "print(type(variable))"
   ],
   "id": "5a413ffd1e407b4d",
   "outputs": [
    {
     "name": "stdout",
     "output_type": "stream",
     "text": [
      "this is line zero\n",
      " this is line one\n",
      "<class 'str'>\n"
     ]
    }
   ],
   "execution_count": 37
  },
  {
   "metadata": {
    "ExecuteTime": {
     "end_time": "2025-02-05T15:41:54.497514Z",
     "start_time": "2025-02-05T15:41:54.494875Z"
    }
   },
   "cell_type": "code",
   "source": [
    "# Declare a multiline string using a single quote and double quote\n",
    "a = '''Welcome to python basics\n",
    "you can learn for data science\n",
    "or you can learn for webdev as well \\n'''\n",
    "\n",
    "b = \"\"\"Welcome to python basics\n",
    "you can learn for data science\n",
    "or you can learn for webdev as well\"\"\"\n",
    "\n",
    "print(a)\n",
    "print(b)\n"
   ],
   "id": "90603b54101f2615",
   "outputs": [
    {
     "name": "stdout",
     "output_type": "stream",
     "text": [
      "Welcome to python basics\n",
      "you can learn for data science\n",
      "or you can learn for webdev as well \n",
      "\n",
      "Welcome to python basics\n",
      "you can learn for data science\n",
      "or you can learn for webdev as well\n"
     ]
    }
   ],
   "execution_count": 38
  },
  {
   "metadata": {},
   "cell_type": "markdown",
   "source": "### Booleans",
   "id": "69476db61cce8873"
  },
  {
   "metadata": {
    "ExecuteTime": {
     "end_time": "2025-02-05T15:41:54.546592Z",
     "start_time": "2025-02-05T15:41:54.543959Z"
    }
   },
   "cell_type": "code",
   "source": [
    "x = 9\n",
    "print(bool(x))"
   ],
   "id": "15c0caccbdbc59c3",
   "outputs": [
    {
     "name": "stdout",
     "output_type": "stream",
     "text": [
      "True\n"
     ]
    }
   ],
   "execution_count": 39
  },
  {
   "metadata": {
    "ExecuteTime": {
     "end_time": "2025-02-05T15:41:54.596586Z",
     "start_time": "2025-02-05T15:41:54.594101Z"
    }
   },
   "cell_type": "code",
   "source": [
    "z = False\n",
    "print(z)\n",
    "print(type(z))\n",
    "print(bool(z))"
   ],
   "id": "7d632adcb3b8c81d",
   "outputs": [
    {
     "name": "stdout",
     "output_type": "stream",
     "text": [
      "False\n",
      "<class 'bool'>\n",
      "False\n"
     ]
    }
   ],
   "execution_count": 40
  },
  {
   "metadata": {},
   "cell_type": "markdown",
   "source": "### Casting Data Types",
   "id": "846315f892822062"
  },
  {
   "metadata": {
    "ExecuteTime": {
     "end_time": "2025-02-05T15:41:54.647698Z",
     "start_time": "2025-02-05T15:41:54.644696Z"
    }
   },
   "cell_type": "code",
   "source": [
    "# cast from str to int\n",
    "str_numbers = \"456\"\n",
    "str_numbers_to_int = int(str_numbers)\n",
    "print(\"Before casting :\", str_numbers, \", the data type is\", type(str_numbers))\n",
    "print(\"After casting :\", str_numbers_to_int, \", the data type is\", type(str_numbers_to_int))"
   ],
   "id": "aaa27ba33ce7f3f8",
   "outputs": [
    {
     "name": "stdout",
     "output_type": "stream",
     "text": [
      "Before casting : 456 , the data type is <class 'str'>\n",
      "After casting : 456 , the data type is <class 'int'>\n"
     ]
    }
   ],
   "execution_count": 41
  },
  {
   "metadata": {
    "ExecuteTime": {
     "end_time": "2025-02-05T15:41:54.697418Z",
     "start_time": "2025-02-05T15:41:54.694880Z"
    }
   },
   "cell_type": "code",
   "source": [
    "# casting from int to str\n",
    "integer = 12345\n",
    "integer_to_str = str(integer)\n",
    "print(\"Before casting :\", integer, \", the data type is\", type(integer))\n",
    "print(\"After casting :\", integer_to_str, \", the data type is\", type(integer_to_str))"
   ],
   "id": "4e7a3248976e2ca4",
   "outputs": [
    {
     "name": "stdout",
     "output_type": "stream",
     "text": [
      "Before casting : 12345 , the data type is <class 'int'>\n",
      "After casting : 12345 , the data type is <class 'str'>\n"
     ]
    }
   ],
   "execution_count": 42
  },
  {
   "metadata": {
    "ExecuteTime": {
     "end_time": "2025-02-05T15:41:54.746781Z",
     "start_time": "2025-02-05T15:41:54.744047Z"
    }
   },
   "cell_type": "code",
   "source": [
    "# casting from int to bool\n",
    "num_int = 1\n",
    "num_bool = bool(num_int)\n",
    "print(num_bool, type(num_bool))\n",
    "\n",
    "num_int = 0\n",
    "num_bool = bool(num_int)\n",
    "print(num_bool, type(num_bool))"
   ],
   "id": "c0180e1575a92b74",
   "outputs": [
    {
     "name": "stdout",
     "output_type": "stream",
     "text": [
      "True <class 'bool'>\n",
      "False <class 'bool'>\n"
     ]
    }
   ],
   "execution_count": 43
  },
  {
   "metadata": {},
   "cell_type": "markdown",
   "source": [
    "# 4) Operators\n",
    "\n",
    "### Comparison Operator\n",
    "\n",
    "![](https://d1e4pidl3fu268.cloudfront.net/48295477-61ac-4b5e-a6dc-456acd3ab0a6/comparisonoperators.png)"
   ],
   "id": "9e11dc485752f7d2"
  },
  {
   "metadata": {
    "ExecuteTime": {
     "end_time": "2025-02-05T15:41:54.797Z",
     "start_time": "2025-02-05T15:41:54.793968Z"
    }
   },
   "cell_type": "code",
   "source": [
    "# Equal to\n",
    "8 == 8"
   ],
   "id": "1fe9ac439da20308",
   "outputs": [
    {
     "data": {
      "text/plain": [
       "True"
      ]
     },
     "execution_count": 44,
     "metadata": {},
     "output_type": "execute_result"
    }
   ],
   "execution_count": 44
  },
  {
   "metadata": {
    "ExecuteTime": {
     "end_time": "2025-02-05T15:41:54.846729Z",
     "start_time": "2025-02-05T15:41:54.843792Z"
    }
   },
   "cell_type": "code",
   "source": [
    "# Not equal to\n",
    "8 != 9"
   ],
   "id": "6816e2a0f0080a3b",
   "outputs": [
    {
     "data": {
      "text/plain": [
       "True"
      ]
     },
     "execution_count": 45,
     "metadata": {},
     "output_type": "execute_result"
    }
   ],
   "execution_count": 45
  },
  {
   "metadata": {
    "ExecuteTime": {
     "end_time": "2025-02-05T15:41:54.895887Z",
     "start_time": "2025-02-05T15:41:54.893097Z"
    }
   },
   "cell_type": "code",
   "source": [
    "# Greater than\n",
    "8 > 9"
   ],
   "id": "5e12b12890cc88ba",
   "outputs": [
    {
     "data": {
      "text/plain": [
       "False"
      ]
     },
     "execution_count": 46,
     "metadata": {},
     "output_type": "execute_result"
    }
   ],
   "execution_count": 46
  },
  {
   "metadata": {
    "ExecuteTime": {
     "end_time": "2025-02-05T15:41:54.944528Z",
     "start_time": "2025-02-05T15:41:54.942046Z"
    }
   },
   "cell_type": "code",
   "source": [
    "# Less than\n",
    "8 < 9"
   ],
   "id": "c8856b1a29b212a5",
   "outputs": [
    {
     "data": {
      "text/plain": [
       "True"
      ]
     },
     "execution_count": 47,
     "metadata": {},
     "output_type": "execute_result"
    }
   ],
   "execution_count": 47
  },
  {
   "metadata": {
    "ExecuteTime": {
     "end_time": "2025-02-05T15:41:54.993830Z",
     "start_time": "2025-02-05T15:41:54.991037Z"
    }
   },
   "cell_type": "code",
   "source": [
    "# Less than\n",
    "8 <= 9"
   ],
   "id": "8266846ea9507428",
   "outputs": [
    {
     "data": {
      "text/plain": [
       "True"
      ]
     },
     "execution_count": 48,
     "metadata": {},
     "output_type": "execute_result"
    }
   ],
   "execution_count": 48
  },
  {
   "metadata": {
    "ExecuteTime": {
     "end_time": "2025-02-05T15:41:55.045707Z",
     "start_time": "2025-02-05T15:41:55.042261Z"
    }
   },
   "cell_type": "code",
   "source": [
    "# Less than\n",
    "9 >= 9"
   ],
   "id": "25e49e5592a4bc10",
   "outputs": [
    {
     "data": {
      "text/plain": [
       "True"
      ]
     },
     "execution_count": 49,
     "metadata": {},
     "output_type": "execute_result"
    }
   ],
   "execution_count": 49
  },
  {
   "metadata": {},
   "cell_type": "markdown",
   "source": [
    "### Logical Operator\n",
    "\n",
    "![](https://miro.medium.com/v2/resize:fit:602/1*SDDa0gcAESWXdiiy3xs3PQ.png)"
   ],
   "id": "c72819f9f8d5b954"
  },
  {
   "metadata": {
    "ExecuteTime": {
     "end_time": "2025-02-05T15:41:55.095656Z",
     "start_time": "2025-02-05T15:41:55.092750Z"
    }
   },
   "cell_type": "code",
   "source": [
    "a = True\n",
    "b = True\n",
    "print(a and b)\n",
    "print(a or b)\n",
    "print(not b)"
   ],
   "id": "8fc44df87a7d53a9",
   "outputs": [
    {
     "name": "stdout",
     "output_type": "stream",
     "text": [
      "True\n",
      "True\n",
      "False\n"
     ]
    }
   ],
   "execution_count": 50
  },
  {
   "metadata": {
    "ExecuteTime": {
     "end_time": "2025-02-05T15:41:55.145752Z",
     "start_time": "2025-02-05T15:41:55.143162Z"
    }
   },
   "cell_type": "code",
   "source": "5 > 6 and 6 < 7",
   "id": "9463111263cf3830",
   "outputs": [
    {
     "data": {
      "text/plain": [
       "False"
      ]
     },
     "execution_count": 51,
     "metadata": {},
     "output_type": "execute_result"
    }
   ],
   "execution_count": 51
  },
  {
   "metadata": {},
   "cell_type": "markdown",
   "source": "The logic above can be called with Compound Truth (logika gabungan)",
   "id": "11ff9a4231fe7008"
  },
  {
   "metadata": {},
   "cell_type": "markdown",
   "source": [
    "### Aritmetic Operator\n",
    "\n",
    "![](https://d1e4pidl3fu268.cloudfront.net/f20083ef-a2fb-4673-ac88-13d58ba68133/Arithmeticoperators.png)"
   ],
   "id": "856c3f863dd5e7f1"
  },
  {
   "metadata": {
    "ExecuteTime": {
     "end_time": "2025-02-05T15:41:55.196120Z",
     "start_time": "2025-02-05T15:41:55.192777Z"
    }
   },
   "cell_type": "code",
   "source": [
    "e = 8\n",
    "f = 2\n",
    "\n",
    "# Summation\n",
    "sum = e + f\n",
    "print(f\"The sum of e with f is : {sum}\\n\")\n",
    "\n",
    "# Reduction\n",
    "red = e - f\n",
    "print(f\"The reduction of e with f is : {red}\\n\")\n",
    "\n",
    "# Multiplication\n",
    "multi = e * f\n",
    "print(f\"The multipication of e with f is : {multi}\\n\")\n",
    "\n",
    "# Division\n",
    "divi = e / f\n",
    "print(f\"The quotient of e with f is : {divi}\\n\")\n",
    "\n",
    "# Modulo\n",
    "mod = e % f\n",
    "print(f\"The remainder of e with f is : {mod}\\n\")\n",
    "\n",
    "# Power\n",
    "pow = e ** f\n",
    "print(f\"The power of e of f is : {pow}\\n\")"
   ],
   "id": "b95ad36531068ec4",
   "outputs": [
    {
     "name": "stdout",
     "output_type": "stream",
     "text": [
      "The sum of e with f is : 10\n",
      "\n",
      "The reduction of e with f is : 6\n",
      "\n",
      "The multipication of e with f is : 16\n",
      "\n",
      "The quotient of e with f is : 4.0\n",
      "\n",
      "The remainder of e with f is : 0\n",
      "\n",
      "The power of e of f is : 64\n",
      "\n"
     ]
    }
   ],
   "execution_count": 52
  },
  {
   "metadata": {},
   "cell_type": "markdown",
   "source": "<img src=\"https://i.ytimg.com/vi/i2i8YkFyLVs/maxresdefault.jpg\" alt=\"precedence_img\" width=\"500\">",
   "id": "e566183009827bf0"
  },
  {
   "metadata": {
    "ExecuteTime": {
     "end_time": "2025-02-05T15:41:55.250285Z",
     "start_time": "2025-02-05T15:41:55.245916Z"
    }
   },
   "cell_type": "code",
   "source": [
    "result = 2 + 3 * (4 ** 2) / 8 - 5\n",
    "result"
   ],
   "id": "943d23aef4c3626e",
   "outputs": [
    {
     "data": {
      "text/plain": [
       "3.0"
      ]
     },
     "execution_count": 53,
     "metadata": {},
     "output_type": "execute_result"
    }
   ],
   "execution_count": 53
  },
  {
   "metadata": {
    "ExecuteTime": {
     "end_time": "2025-02-05T15:41:55.355851Z",
     "start_time": "2025-02-05T15:41:55.353383Z"
    }
   },
   "cell_type": "code",
   "source": [
    "# Try to answer before you run it\n",
    "guess = 60 - 4 * 3 / (2 ** 2) * 2 + 1"
   ],
   "id": "1c275788950a71c4",
   "outputs": [],
   "execution_count": 54
  },
  {
   "metadata": {
    "ExecuteTime": {
     "end_time": "2025-02-05T15:41:55.401569Z",
     "start_time": "2025-02-05T15:41:55.399610Z"
    }
   },
   "cell_type": "code",
   "source": "# answer right here",
   "id": "ec5eccf7a60df3c6",
   "outputs": [],
   "execution_count": 55
  },
  {
   "metadata": {},
   "cell_type": "markdown",
   "source": "## Input Output",
   "id": "2d9ad09d65c3df2d"
  },
  {
   "metadata": {},
   "cell_type": "markdown",
   "source": "### Input",
   "id": "26d34f5b97f195be"
  },
  {
   "metadata": {
    "ExecuteTime": {
     "end_time": "2025-02-05T15:42:04.942291Z",
     "start_time": "2025-02-05T15:41:56.250400Z"
    }
   },
   "cell_type": "code",
   "source": [
    "name = str(input(\"What is your name : \"))\n",
    "age = int(input(\"What's your age : \"))\n",
    "\n",
    "print(\"Name: \", name)\n",
    "print(\"Age: \", age)\n"
   ],
   "id": "3dd9b37aa44eff15",
   "outputs": [
    {
     "name": "stdout",
     "output_type": "stream",
     "text": [
      "Name:  Parman\n",
      "Age:  30\n"
     ]
    }
   ],
   "execution_count": 56
  },
  {
   "metadata": {},
   "cell_type": "markdown",
   "source": "### Output",
   "id": "7fda999a0f8632d2"
  },
  {
   "metadata": {
    "ExecuteTime": {
     "end_time": "2025-02-05T15:46:52.294398Z",
     "start_time": "2025-02-05T15:46:52.291975Z"
    }
   },
   "cell_type": "code",
   "source": [
    "# normal print\n",
    "print('Hi all! I am', name, 'usia', age, 'tahun')"
   ],
   "id": "95c7b282b941ef60",
   "outputs": [
    {
     "name": "stdout",
     "output_type": "stream",
     "text": [
      "Hi all! I am Parman usia 30 tahun\n"
     ]
    }
   ],
   "execution_count": 57
  },
  {
   "metadata": {
    "ExecuteTime": {
     "end_time": "2025-02-05T15:46:53.566307Z",
     "start_time": "2025-02-05T15:46:53.563836Z"
    }
   },
   "cell_type": "code",
   "source": [
    "# format print\n",
    "print(f'Hi all! I am {name} usia {age} tahun')"
   ],
   "id": "d11d938d0263bc39",
   "outputs": [
    {
     "name": "stdout",
     "output_type": "stream",
     "text": [
      "Hi all! I am Parman usia 30 tahun\n"
     ]
    }
   ],
   "execution_count": 58
  },
  {
   "metadata": {
    "ExecuteTime": {
     "end_time": "2025-02-05T15:47:38.921185Z",
     "start_time": "2025-02-05T15:47:38.918788Z"
    }
   },
   "cell_type": "code",
   "source": [
    "# format print\n",
    "print(f'Hi all! I am %s usia %d tahun'%(name, age))"
   ],
   "id": "70ccc5ee559e5cfc",
   "outputs": [
    {
     "name": "stdout",
     "output_type": "stream",
     "text": [
      "Halo semua! aku Parman usia 30 tahun\n"
     ]
    }
   ],
   "execution_count": 61
  },
  {
   "metadata": {
    "ExecuteTime": {
     "end_time": "2025-02-05T15:51:33.791331Z",
     "start_time": "2025-02-05T15:51:33.788264Z"
    }
   },
   "cell_type": "code",
   "source": [
    "print(30*\"=\")\n",
    "print(\"Temperature Calculator Program\")\n",
    "print(30*\"=\")"
   ],
   "id": "fa14629fae33ecca",
   "outputs": [
    {
     "name": "stdout",
     "output_type": "stream",
     "text": [
      "==============================\n",
      "Temperature Calculator Program\n",
      "==============================\n"
     ]
    }
   ],
   "execution_count": 63
  },
  {
   "metadata": {},
   "cell_type": "markdown",
   "source": "# 5) Conditionals",
   "id": "12670d67d401e5dc"
  },
  {
   "metadata": {},
   "cell_type": "code",
   "outputs": [],
   "execution_count": null,
   "source": [
    "your_GPA = float(input(\"Enter your GPA: \"))\n",
    "if your_GPA > 3.60:\n",
    "    print(\"Your GPA is\", your_GPA)"
   ],
   "id": "bf672c37320a2b4f"
  }
 ],
 "metadata": {
  "kernelspec": {
   "display_name": "Python 3",
   "language": "python",
   "name": "python3"
  },
  "language_info": {
   "codemirror_mode": {
    "name": "ipython",
    "version": 2
   },
   "file_extension": ".py",
   "mimetype": "text/x-python",
   "name": "python",
   "nbconvert_exporter": "python",
   "pygments_lexer": "ipython2",
   "version": "2.7.6"
  }
 },
 "nbformat": 4,
 "nbformat_minor": 5
}

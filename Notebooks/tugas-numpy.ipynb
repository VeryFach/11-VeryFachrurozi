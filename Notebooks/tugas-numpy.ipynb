{
 "cells": [
  {
   "cell_type": "markdown",
   "id": "d947b9cf-215c-4b18-a0b8-963556c547c7",
   "metadata": {},
   "source": [
    "# **TUGAS NUMPY**\n",
    "\n",
    "---\n",
    "\n",
    "Nama: Very Fachrurozi\n",
    "\n",
    "NIM: 235150207111003"
   ]
  },
  {
   "cell_type": "markdown",
   "id": "392630c3-e396-4dde-8258-cfd1085fd39d",
   "metadata": {},
   "source": [
    "Setelah mengikuti workshop Numpy dan Pandas, tentunya kalian sudah mulai memahami hal-hal apa saja yang akan dilakukan oleh Data Scientist dengan Numpy. Sekarang, saatnya mengukur kemampuan kalian dari apa yang telah kalian dapatkan pada workshop sebelumnya.\n",
    "\n",
    "**Deadline: Jumat, 21 Februari 2025**\n"
   ]
  },
  {
   "cell_type": "markdown",
   "id": "eca339fb-851e-47d9-92a3-8811c04207ed",
   "metadata": {},
   "source": [
    "# **📊 Numpy Exercise 📊**\n",
    "\n",
    "Selamat datang di latihan eksplorasi data menggunakan **Numpy**!  \n",
    "\n",
    "---"
   ]
  },
  {
   "cell_type": "code",
   "execution_count": 2,
   "id": "1deac6a1",
   "metadata": {},
   "outputs": [],
   "source": [
    "import numpy as np"
   ]
  },
  {
   "cell_type": "markdown",
   "id": "ee73dcd6-dd10-4c9c-88ca-0eab4af9f337",
   "metadata": {},
   "source": [
    "## **📌 Soal 1: Regresi Linear** 📝\n",
    "\n",
    "Saat offline/online assessment kemarin ada persoalaan **Regresi Linear**, nah coba kamu buat menggunakan python dan numpy termasuk poin-poin berikut: <br>\n",
    "✅ Fungsi regresi mampu menerima array A dan array B dan memprediksi slope dan intercept<br>\n",
    "✅ Fungsi regresi mampu memprediksi nilai baru jika diberikan nilai X <br>"
   ]
  },
  {
   "cell_type": "code",
   "execution_count": 9,
   "id": "cbc3cb08-4559-41f8-ad23-1889bd6b5e7d",
   "metadata": {},
   "outputs": [
    {
     "name": "stdout",
     "output_type": "stream",
     "text": [
      "Intercept: 2.00, Slope: 0.00, Prediksi untuk X=6: 12.00\n"
     ]
    }
   ],
   "source": [
    "def linear_regression(a, b, x_pred):\n",
    "    a = np.array(a)\n",
    "    b = np.array(b)\n",
    "    \n",
    "    a_mean = np.mean(a)\n",
    "    b_mean = np.mean(b)\n",
    "    \n",
    "    b1 = np.sum((a - a_mean) * (b - b_mean))//np.sum((a - a_mean)**2)\n",
    "    b0 = b_mean - b1 * a_mean\n",
    "    \n",
    "    y_pred = b0 + b1 * x_pred\n",
    "    return b1, b0, y_pred\n",
    "    \n",
    "a = [1, 2, 3, 4, 5]\n",
    "b = [2, 4, 6, 8, 10]\n",
    "x_pred = 6\n",
    "b1, b0, prediction = linear_regression(a, b, x_pred)\n",
    "print(f\"Intercept: {b1:.2f}, Slope: {b0:.2f}, Prediksi untuk X={x_pred}: {prediction:.2f}\")"
   ]
  },
  {
   "cell_type": "markdown",
   "id": "a01ab4fc-cd05-4c79-bc0e-35f2412477d2",
   "metadata": {},
   "source": [
    "## **📌 Soal 2: Regresi Polinomial** 📝\n",
    "\n",
    "Saat offline/online assessment kemarin ada persoalan **Regresi Linear**, nah sekarang coba kamu buat **Regresi Polinomial** menggunakan Python dan NumPy, termasuk poin-poin berikut:<br>\n",
    "✅ Fungsi regresi mampu menerima array A dan array B serta menyesuaikan data dengan polinomial derajat tertentu.<br>\n",
    "✅ Fungsi regresi mampu memprediksi nilai baru jika diberikan nilai X.<br>\n",
    "✅ Hasil regresi mencetak koefisien polinomial yang dihasilkan.<br>"
   ]
  },
  {
   "cell_type": "code",
   "execution_count": 13,
   "id": "efaa13de-f42c-43e8-b726-3d4d849807ad",
   "metadata": {},
   "outputs": [
    {
     "name": "stdout",
     "output_type": "stream",
     "text": [
      "Koefisien polinomial: [ 1.00000000e+00 -2.26948902e-14  1.00000000e+00]\n",
      "Prediksi untuk x=6: y=37.000000000000064\n"
     ]
    }
   ],
   "source": [
    "def polynomial_regression(a, b, d):\n",
    "\n",
    "    koefisien = np.polyfit(a, b, d)\n",
    "    \n",
    "    print(\"Koefisien polinomial:\", koefisien)\n",
    "    \n",
    "    poly = np.poly1d(koefisien)\n",
    "    \n",
    "    return poly\n",
    "\n",
    "x = np.array([1, 2, 3, 4, 5])\n",
    "y = np.array([2, 5, 10, 17, 26])\n",
    "\n",
    "d = 2\n",
    "model = polynomial_regression(x, y, d)\n",
    "\n",
    "x_new = 6\n",
    "predicted = model(x_new)\n",
    "print(f\"Prediksi untuk x={x_new}: y={predicted}\")"
   ]
  },
  {
   "cell_type": "markdown",
   "id": "e187c964-3ab2-4ae3-a52c-4e6052c30911",
   "metadata": {},
   "source": [
    "## **📌 Soal 3: Random Values Array** 📝\n",
    "\n",
    "Pertama-tama, buatlah **Array Integer 10x10x10** dengan elemen **random** dan carikan:<br>\n",
    "1️⃣ Cari elemen minimum dan maksimum dalam array tersebut?<br>\n",
    "2️⃣ Carilah rata-rata dan median seluruh elemen dalam array tersebut?<br>"
   ]
  },
  {
   "cell_type": "code",
   "execution_count": 26,
   "id": "ba1aa95d-56ce-4834-8d73-7e27e4cc1901",
   "metadata": {},
   "outputs": [
    {
     "data": {
      "text/plain": [
       "array([[[ 4,  4,  0,  4,  1,  3, 25,  2,  0, 23],\n",
       "        [23, 11,  5, 25, 14, 29,  2, 12, 15, 20],\n",
       "        [ 8, 15, 23,  0, 27,  9,  5, 10,  4, 29],\n",
       "        [ 6,  7,  2,  6, 29, 17, 21,  2, 13, 14],\n",
       "        [ 8, 16,  8,  8,  8, 29, 11,  4, 18,  3],\n",
       "        [ 3, 20, 26, 13, 25, 28,  2, 16, 14, 16],\n",
       "        [23, 12, 23, 13, 11, 18, 13, 16,  1,  9],\n",
       "        [29, 23, 16, 29, 19, 19, 27,  0, 17, 27],\n",
       "        [ 4,  3, 26,  8, 18, 20,  3,  8,  2,  6],\n",
       "        [18, 15, 24,  4, 29, 11,  4, 16, 24, 13]],\n",
       "\n",
       "       [[ 9, 12, 24,  7,  4, 19, 29, 14, 17, 28],\n",
       "        [15, 25, 11, 14,  0, 26, 28, 22, 11, 16],\n",
       "        [21, 29, 10, 26, 22, 21,  8, 25, 20, 17],\n",
       "        [23,  5,  0,  6, 18,  2, 21, 26,  9, 10],\n",
       "        [21, 19, 27, 10,  2, 24, 23, 29, 27, 28],\n",
       "        [11,  7, 16,  2, 13, 25, 20, 22, 11,  8],\n",
       "        [14, 10,  9, 18,  8,  0, 22, 23, 29, 12],\n",
       "        [ 8,  8,  9, 25, 29,  3,  5,  4, 23, 19],\n",
       "        [ 3, 16, 21,  4,  8,  9, 10, 28, 12,  5],\n",
       "        [20, 27,  6,  7, 18, 13, 25,  3, 13, 22]],\n",
       "\n",
       "       [[25, 26, 14, 19,  6,  5,  6,  5,  5,  7],\n",
       "        [11, 15, 12, 27, 23, 20, 13, 22,  6,  0],\n",
       "        [18,  5,  3, 11,  7, 28,  8,  5, 28, 14],\n",
       "        [ 4, 11, 20, 17, 22,  8, 20, 17, 25,  4],\n",
       "        [10,  5, 25, 18, 12, 25, 19, 14, 12,  1],\n",
       "        [ 9, 11,  8, 19, 26, 13,  7, 25, 12, 13],\n",
       "        [13, 23, 15,  6, 23,  9,  8, 16,  9, 17],\n",
       "        [25, 19,  3, 17, 28, 24, 23, 13, 17, 28],\n",
       "        [28,  8, 25, 18, 28, 27, 28, 28,  1, 17],\n",
       "        [ 3, 27, 26, 28, 25, 23, 28,  7, 22, 11]],\n",
       "\n",
       "       [[27,  3, 16, 10, 13, 19,  2, 11, 19, 28],\n",
       "        [23, 24,  0,  3, 22, 28, 16, 14, 26, 14],\n",
       "        [29, 13, 25,  7, 15, 24, 12,  0, 28,  1],\n",
       "        [ 1,  3,  1, 26, 20, 23,  8, 24,  3,  8],\n",
       "        [23, 25, 14, 10, 19, 27,  7, 14, 14, 19],\n",
       "        [ 3, 25, 21,  8, 19,  9,  6, 23, 17, 22],\n",
       "        [23,  1, 28, 16, 10,  0,  3,  4,  8,  1],\n",
       "        [29, 10, 22, 16, 13, 20, 25, 15, 17,  6],\n",
       "        [23, 21,  3,  9,  8, 11,  7,  9, 25,  8],\n",
       "        [ 4, 29, 14, 26, 26,  1,  1, 12,  9, 11]],\n",
       "\n",
       "       [[ 7,  5, 20, 22,  5, 17, 12, 27, 21, 19],\n",
       "        [28, 16, 27,  4, 27,  8,  0,  2, 15,  1],\n",
       "        [ 6,  5, 26, 28, 17,  4,  3, 14, 14,  1],\n",
       "        [29,  6, 21,  4, 21, 27,  8,  7, 11, 22],\n",
       "        [25, 13, 10, 20, 21, 12, 16,  4,  9,  2],\n",
       "        [ 1,  0, 28, 19, 29, 19,  3, 28,  0, 28],\n",
       "        [16, 22, 28, 13, 12, 23, 17, 20,  8,  9],\n",
       "        [24, 11,  5,  2,  3, 27, 11, 13, 26,  0],\n",
       "        [24,  9, 13,  8, 26, 16, 12, 27, 26, 18],\n",
       "        [26,  6,  1,  0, 26, 22, 24, 12, 28, 19]],\n",
       "\n",
       "       [[ 6, 28, 18, 23,  6,  8, 18,  8, 14,  6],\n",
       "        [29,  2,  7, 20,  2,  0,  2, 26, 13, 12],\n",
       "        [ 2,  5, 25,  0,  3,  0,  0, 12, 26,  5],\n",
       "        [ 6, 28, 19, 22,  7, 19, 14,  1, 29, 26],\n",
       "        [ 7, 15, 29, 15, 28,  5,  7, 23, 22,  9],\n",
       "        [27, 11, 18,  6, 19, 17,  1, 28, 19,  4],\n",
       "        [24, 16,  7, 23, 20, 21, 18, 25,  9,  8],\n",
       "        [12, 25, 27, 24, 14, 15, 16, 11, 21, 27],\n",
       "        [ 9,  9, 24, 25,  7,  1, 12, 12,  9, 11],\n",
       "        [24, 10,  0, 20, 13,  4, 14,  2, 28, 20]],\n",
       "\n",
       "       [[ 6, 18, 20, 25, 10,  4, 25,  7, 28,  9],\n",
       "        [12, 23, 13,  0,  5, 18, 29,  5, 24, 17],\n",
       "        [ 7, 11, 28,  2, 20, 20, 12,  7, 27, 13],\n",
       "        [25, 22,  2,  3, 12,  3, 13, 21, 12,  4],\n",
       "        [11,  1,  7, 21,  0, 19, 19, 27, 29, 21],\n",
       "        [28, 13, 27,  2, 24,  7, 20,  5,  0, 29],\n",
       "        [10,  4,  3,  8, 11,  8,  1, 25,  0, 15],\n",
       "        [ 3, 22,  5,  8, 20,  6,  6, 24, 27,  1],\n",
       "        [19, 17,  4, 22, 17, 24, 15,  3, 24, 19],\n",
       "        [22, 25, 11,  5,  7, 25, 19,  1,  7, 10]],\n",
       "\n",
       "       [[21,  4,  1,  8, 21, 16,  0,  6, 26,  0],\n",
       "        [25, 24, 13, 18, 11, 24, 27,  7, 24, 14],\n",
       "        [ 6, 24,  0, 21,  1, 23, 17,  9,  8, 25],\n",
       "        [17, 13, 15, 27,  1, 23,  2, 20, 19,  2],\n",
       "        [22, 23, 24,  0,  9,  1, 21, 24, 14,  8],\n",
       "        [22, 18,  3, 14, 15, 16, 18, 18,  7, 16],\n",
       "        [13,  0,  2,  6,  9, 17, 22,  2, 11,  2],\n",
       "        [17,  8, 12, 10, 17,  8, 22, 19, 16, 17],\n",
       "        [20,  9, 19, 15,  2,  5,  1, 13, 23, 23],\n",
       "        [25,  9, 24,  6, 14, 23,  3, 25, 18, 12]],\n",
       "\n",
       "       [[ 6,  2, 10, 12, 15, 23,  8, 23, 17, 24],\n",
       "        [13, 23, 25,  4,  4, 24,  4, 21, 28, 12],\n",
       "        [14, 26, 17,  0, 20, 29, 20,  4, 17,  6],\n",
       "        [12, 15, 15, 29,  6,  5, 13, 24,  5,  6],\n",
       "        [26, 11, 16, 11,  7, 28, 14, 25, 15, 10],\n",
       "        [28, 10, 15,  7, 23,  0, 15,  8, 15, 27],\n",
       "        [15, 18, 18, 20,  4, 22, 19, 21,  4,  0],\n",
       "        [13, 16, 28, 10,  0,  0, 26,  9,  1,  5],\n",
       "        [18,  1, 23, 16,  9, 23, 12, 16,  8,  9],\n",
       "        [15, 23, 19, 27,  0,  9,  5, 16, 14, 21]],\n",
       "\n",
       "       [[15, 19,  3,  0, 22,  0,  1, 10, 27, 23],\n",
       "        [19, 26, 24,  9, 24,  5,  2, 20, 14, 17],\n",
       "        [ 3, 12, 13, 16,  6, 18,  6,  9,  0, 17],\n",
       "        [ 1, 28, 26,  0, 19, 28, 27,  3, 14, 18],\n",
       "        [28,  4,  1, 12,  1, 21,  7, 28,  4, 22],\n",
       "        [ 3, 17, 21, 28, 28, 27, 12, 26, 18,  4],\n",
       "        [16, 18, 20,  1, 17, 20, 13, 21, 16, 13],\n",
       "        [10, 26, 26,  0,  5,  6, 27, 14, 16,  4],\n",
       "        [11,  7, 13,  6, 15, 12, 17,  0,  4, 18],\n",
       "        [ 1, 12, 16, 12, 12, 12,  2, 22, 20, 24]]])"
      ]
     },
     "execution_count": 26,
     "metadata": {},
     "output_type": "execute_result"
    }
   ],
   "source": [
    "a = np.random.randint(0,30,(10,10,10))\n",
    "a"
   ]
  },
  {
   "cell_type": "code",
   "execution_count": 27,
   "id": "c7cd0420-9393-449a-bcec-e5947b24b327",
   "metadata": {},
   "outputs": [
    {
     "name": "stdout",
     "output_type": "stream",
     "text": [
      "Element Minimum : 0 , & Element Maksimal : 29\n"
     ]
    }
   ],
   "source": [
    "minimum = np.min(a)\n",
    "maxsimum = np.max(a)\n",
    "print(f\"Element Minimum : {minimum} , & Element Maksimal : {maxsimum}\" )"
   ]
  },
  {
   "cell_type": "code",
   "execution_count": 28,
   "id": "c0eeac5b",
   "metadata": {},
   "outputs": [
    {
     "name": "stdout",
     "output_type": "stream",
     "text": [
      "Mean : 14.354, & Median : 14.0\n"
     ]
    }
   ],
   "source": [
    "mean = np.mean(a)\n",
    "median = np.median(a)\n",
    "print(f\"Mean : {mean}, & Median : {median}\")"
   ]
  },
  {
   "cell_type": "markdown",
   "id": "1f248c96-688d-462a-b41e-5a2275be5fde",
   "metadata": {},
   "source": [
    "## **📌 Soal 4: 2D Array Shenanigans** 📝\n",
    "\n",
    "Tugas kamu disini adalah membuat **Array 2D** sesuai ketentuan masing-masing soal: <br>\n",
    "1️⃣ Buatlah **array 10x10** yang memiliki angka \"5\" sebagai bingkai di seluruh tepi luar dan bagian dalam (selain array) berisi \"8\"? <br>\n",
    "2️⃣ Buatlah **array 2d 8x8** dengan pola seperti **checkboard/catur** (1 untuk kotak hitam, 0 untuk kotak putih)?<br>\n",
    "3️⃣ Buatlah **array 2d 15x15** dengan aturan sebagai berikut:\n",
    "- Jika suatu angka dapat dibagi 2, isi dengan 2.\n",
    "- Jika suatu angka dapat dibagi 3, isi dengan 3.\n",
    "- Jika suatu angka dapat dibagi 5, isi dengan 5.\n",
    "- Jika suatu angka dapat dibagi oleh lebih dari satu kondisi (misal, 6 bisa dibagi 2 & 3), maka simpan gabungan angka tersebut (misal, 6 → \"23\", 15 → \"35\").\n",
    "- Jika tidak memenuhi kondisi apa pun, isi dengan 0."
   ]
  },
  {
   "cell_type": "code",
   "execution_count": 32,
   "id": "e4974640-df15-43f7-9ae5-fdc8ff8f47dd",
   "metadata": {},
   "outputs": [
    {
     "data": {
      "text/plain": [
       "array([[5, 5, 5, 5, 5, 5, 5, 5, 5, 5],\n",
       "       [5, 8, 8, 8, 8, 8, 8, 8, 8, 5],\n",
       "       [5, 8, 8, 8, 8, 8, 8, 8, 8, 5],\n",
       "       [5, 8, 8, 8, 8, 8, 8, 8, 8, 5],\n",
       "       [5, 8, 8, 8, 8, 8, 8, 8, 8, 5],\n",
       "       [5, 8, 8, 8, 8, 8, 8, 8, 8, 5],\n",
       "       [5, 8, 8, 8, 8, 8, 8, 8, 8, 5],\n",
       "       [5, 8, 8, 8, 8, 8, 8, 8, 8, 5],\n",
       "       [5, 8, 8, 8, 8, 8, 8, 8, 8, 5],\n",
       "       [5, 5, 5, 5, 5, 5, 5, 5, 5, 5]])"
      ]
     },
     "execution_count": 32,
     "metadata": {},
     "output_type": "execute_result"
    }
   ],
   "source": [
    "a_array = np.full((10,10),8)\n",
    "a_array[0,:] = 5\n",
    "a_array[-1,:] = 5\n",
    "a_array[:,0] = 5\n",
    "a_array[:,-1] = 5\n",
    "a_array"
   ]
  },
  {
   "cell_type": "code",
   "execution_count": 33,
   "id": "0af5bcce-4fe7-489e-a23e-24e7ca11108f",
   "metadata": {},
   "outputs": [
    {
     "data": {
      "text/plain": [
       "array([[0, 1, 0, 1, 0, 1, 0, 1],\n",
       "       [1, 0, 1, 0, 1, 0, 1, 0],\n",
       "       [0, 1, 0, 1, 0, 1, 0, 1],\n",
       "       [1, 0, 1, 0, 1, 0, 1, 0],\n",
       "       [0, 1, 0, 1, 0, 1, 0, 1],\n",
       "       [1, 0, 1, 0, 1, 0, 1, 0],\n",
       "       [0, 1, 0, 1, 0, 1, 0, 1],\n",
       "       [1, 0, 1, 0, 1, 0, 1, 0]])"
      ]
     },
     "execution_count": 33,
     "metadata": {},
     "output_type": "execute_result"
    }
   ],
   "source": [
    "b_array = np.zeros((8,8), dtype=int)\n",
    "b_array[1::2, ::2] = 1\n",
    "b_array[::2, 1::2] = 1\n",
    "b_array"
   ]
  },
  {
   "cell_type": "code",
   "execution_count": 34,
   "id": "5e591f0a-78d8-47e4-97d5-d56bff180984",
   "metadata": {},
   "outputs": [
    {
     "name": "stdout",
     "output_type": "stream",
     "text": [
      "[['0' '2' '3' '2' '5' '23' '0' '2' '3' '25' '0' '23' '0' '2' '35']\n",
      " ['2' '0' '23' '0' '25' '3' '2' '0' '23' '5' '2' '3' '2' '0' '235']\n",
      " ['0' '2' '3' '2' '5' '23' '0' '2' '3' '25' '0' '23' '0' '2' '35']\n",
      " ['2' '0' '23' '0' '25' '3' '2' '0' '23' '5' '2' '3' '2' '0' '235']\n",
      " ['0' '2' '3' '2' '5' '23' '0' '2' '3' '25' '0' '23' '0' '2' '35']\n",
      " ['2' '0' '23' '0' '25' '3' '2' '0' '23' '5' '2' '3' '2' '0' '235']\n",
      " ['0' '2' '3' '2' '5' '23' '0' '2' '3' '25' '0' '23' '0' '2' '35']\n",
      " ['2' '0' '23' '0' '25' '3' '2' '0' '23' '5' '2' '3' '2' '0' '235']\n",
      " ['0' '2' '3' '2' '5' '23' '0' '2' '3' '25' '0' '23' '0' '2' '35']\n",
      " ['2' '0' '23' '0' '25' '3' '2' '0' '23' '5' '2' '3' '2' '0' '235']\n",
      " ['0' '2' '3' '2' '5' '23' '0' '2' '3' '25' '0' '23' '0' '2' '35']\n",
      " ['2' '0' '23' '0' '25' '3' '2' '0' '23' '5' '2' '3' '2' '0' '235']\n",
      " ['0' '2' '3' '2' '5' '23' '0' '2' '3' '25' '0' '23' '0' '2' '35']\n",
      " ['2' '0' '23' '0' '25' '3' '2' '0' '23' '5' '2' '3' '2' '0' '235']\n",
      " ['0' '2' '3' '2' '5' '23' '0' '2' '3' '25' '0' '23' '0' '2' '35']]\n"
     ]
    }
   ],
   "source": [
    "angka = np.arange(1, 226).reshape(15,15)\n",
    "c_array = np.full(angka.shape,\" \", dtype=object)\n",
    "\n",
    "for i in range (15):\n",
    "    for j in range(15):\n",
    "        nilai = angka[i,j]\n",
    "        hasil = \"\"\n",
    "        if nilai % 2 == 0:\n",
    "            hasil += \"2\"\n",
    "        if nilai % 3 == 0:\n",
    "            hasil += \"3\"\n",
    "        if nilai % 5 == 0:\n",
    "            hasil += \"5\"\n",
    "        c_array[i,j] = hasil if hasil else \"0\"\n",
    "        \n",
    "print(c_array)"
   ]
  },
  {
   "cell_type": "markdown",
   "id": "4b963ba6-4272-4773-ab58-33ade2e536bd",
   "metadata": {},
   "source": [
    "## **📌 Soal 5: Time & Date** 📝\n",
    "\n",
    "Kamu disini diminta untuk memanfaatkan fitur numpy untuk tanggal: <br>\n",
    "1️⃣ Bagaimana dengan numpy, kamu bisa mendapatkan tanggal hari ini, kemarin dan esok hari?<br>\n",
    "2️⃣ Tampilkan hari yang ada di bulan Mei tahun 2020?<br>"
   ]
  },
  {
   "cell_type": "code",
   "execution_count": 44,
   "id": "fdbf1391",
   "metadata": {},
   "outputs": [
    {
     "name": "stdout",
     "output_type": "stream",
     "text": [
      "Yestraday:  2025-02-19\n",
      "Today:  2025-02-20\n",
      "Tomorrow:  2025-02-21\n"
     ]
    }
   ],
   "source": [
    "yesterday = np.datetime64('today', 'D') - np.timedelta64(1, 'D')\n",
    "print(\"Yestraday: \", yesterday)\n",
    "\n",
    "today = np.datetime64('today', 'D')\n",
    "print(\"Today: \", today)\n",
    "\n",
    "tomorrow = np.datetime64('today', 'D') + np.timedelta64(1, 'D')\n",
    "print(\"Tomorrow: \", tomorrow)"
   ]
  },
  {
   "cell_type": "code",
   "execution_count": 35,
   "id": "ac7ccf05-97da-484f-96c9-fc578e62bbbe",
   "metadata": {},
   "outputs": [
    {
     "data": {
      "text/plain": [
       "numpy.datetime64('2020-05')"
      ]
     },
     "execution_count": 35,
     "metadata": {},
     "output_type": "execute_result"
    }
   ],
   "source": [
    "result = np.datetime64('2020-05','M')\n",
    "result"
   ]
  },
  {
   "cell_type": "markdown",
   "id": "63d149d6-61a5-481c-bc7c-9e1e8b389c28",
   "metadata": {},
   "source": []
  },
  {
   "cell_type": "markdown",
   "id": "eccc9d2f-8a7a-424c-ab89-ad5e52ca20a4",
   "metadata": {},
   "source": [
    "## **📌 Soal 6: Slicing** 📝\n",
    "\n",
    "Jika diketahui array `A`, maka buatlah program untuk mendapatkan elemen dibawah ini:\n",
    "```python\n",
    "A = np.array([\n",
    "    [10, 20, 30, 40, 50, 60],\n",
    "    [70, 80, 90, 100, 110, 120],\n",
    "    [130, 140, 150, 160, 170, 180],\n",
    "    [190, 200, 210, 220, 230, 240],\n",
    "    [250, 260, 270, 280, 290, 300]\n",
    "])\n",
    "```\n",
    "\n",
    "1️⃣ Ambil elemen yang berada pada baris `ke-4` dan kolom `ke-2` dari array `A` <br>\n",
    "2️⃣ Buat `array 2D` yang hanya berisi bilangan prima dari `A` <br>\n",
    "3️⃣ Ambil elemen-elemen yang berada di tepi luar dari array `A` dan gabungkan menjadi `Satu array 1D`. <br>\n",
    "4️⃣ Dapatkan subbarray berikut:\n",
    "```python\n",
    "[[20, 40, 60],\n",
    " [80, 100, 120],\n",
    " [140, 160, 180],\n",
    " [200, 220, 240],\n",
    " [260, 280, 300]]\n",
    "```\n",
    "5️⃣ Dapatkan subbarray berikut:\n",
    "```python\n",
    " [[30, 40],\n",
    " [90, 100],\n",
    " [150, 160],\n",
    " [210, 220]]\n",
    "```"
   ]
  },
  {
   "cell_type": "code",
   "execution_count": null,
   "id": "4ef1d236-2f82-45f5-a50a-bd202aef8084",
   "metadata": {},
   "outputs": [],
   "source": []
  },
  {
   "cell_type": "code",
   "execution_count": null,
   "id": "e719e525-cf78-484e-9c40-a708a58b387e",
   "metadata": {},
   "outputs": [],
   "source": []
  },
  {
   "cell_type": "code",
   "execution_count": null,
   "id": "f9b0d1e6-c30b-4828-8ad3-0a71367905ba",
   "metadata": {},
   "outputs": [],
   "source": []
  },
  {
   "cell_type": "code",
   "execution_count": null,
   "id": "cc637fd0-78d7-45f8-b4e8-dbde6c3e6dfc",
   "metadata": {},
   "outputs": [],
   "source": []
  },
  {
   "cell_type": "code",
   "execution_count": null,
   "id": "f52e24b4-98f6-41fe-9aab-8d9d243c16e1",
   "metadata": {},
   "outputs": [],
   "source": []
  },
  {
   "cell_type": "markdown",
   "id": "c69b198a-5558-4ca3-8dea-c5a8d1ca81e9",
   "metadata": {},
   "source": [
    "## **📌 Soal 7: Ekspansi Array** 📝\n",
    "\n",
    "Jika kamu memiliki array ***Z = [1,2,3,4,5,6,7,8,9,10,11,12,13,14]***, buatlah kode untuk membuat array R berupa: <br>\n",
    "***R = [[1,2,3,4], [2,3,4,5], [3,4,5,6], ..., [11,12,13,14]]***?"
   ]
  },
  {
   "cell_type": "code",
   "execution_count": null,
   "id": "6f77ba10-4474-44cd-aa7c-5a6c3940e22a",
   "metadata": {},
   "outputs": [],
   "source": []
  }
 ],
 "metadata": {
  "kernelspec": {
   "display_name": "Python 3",
   "language": "python",
   "name": "python3"
  },
  "language_info": {
   "codemirror_mode": {
    "name": "ipython",
    "version": 3
   },
   "file_extension": ".py",
   "mimetype": "text/x-python",
   "name": "python",
   "nbconvert_exporter": "python",
   "pygments_lexer": "ipython3",
   "version": "3.11.9"
  }
 },
 "nbformat": 4,
 "nbformat_minor": 5
}
